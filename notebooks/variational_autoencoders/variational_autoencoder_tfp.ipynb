{
 "cells": [
  {
   "cell_type": "markdown",
   "id": "082a2933-25d2-4de1-878f-1a4b7b8842b8",
   "metadata": {},
   "source": [
    "# Variational autoencoder with TFP"
   ]
  },
  {
   "cell_type": "markdown",
   "id": "7fb4e232-5713-425a-b153-badf28f8bfa3",
   "metadata": {},
   "source": [
    "__Objective:__ build a variational autoencoder (VAE) using Tensorflow Probability."
   ]
  },
  {
   "cell_type": "code",
   "execution_count": null,
   "id": "bb64acba-5396-4735-838e-c5d08ffd35be",
   "metadata": {},
   "outputs": [],
   "source": [
    "import tensorflow as tf\n",
    "from tensorflow.keras import Sequential\n",
    "from tensorflow.keras.layers import (Conv2D, Flatten, Dense,\n",
    "    Reshape, Conv2DTranspose)\n",
    "import tensorflow_probability as tfp\n",
    "\n",
    "tfd = tfp.distributions"
   ]
  },
  {
   "cell_type": "markdown",
   "id": "01a3009e-6550-4f3a-a2e2-e09cf97d6a9f",
   "metadata": {},
   "source": [
    "## Build the model"
   ]
  },
  {
   "cell_type": "code",
   "execution_count": null,
   "id": "9e3a774a-6141-4cb0-a7a5-7a8dd34ebd50",
   "metadata": {},
   "outputs": [],
   "source": [
    "event_shape = (28, 28, 1)\n",
    "latent_size = 2"
   ]
  },
  {
   "cell_type": "markdown",
   "id": "acbc1acf-4f96-4ae1-95a0-1007da422f5e",
   "metadata": {},
   "source": [
    "### Encoder"
   ]
  },
  {
   "cell_type": "markdown",
   "id": "a278475f-3680-4900-acc9-ae718cea0f76",
   "metadata": {},
   "source": [
    "Given a sample $x$, the encoder models the distribution of latent vectors $z$ given $x$. The true distribution $p(z | x)$ is unknown: the encoder provides an **approximation** $q(z | x)$ to that."
   ]
  },
  {
   "cell_type": "code",
   "execution_count": null,
   "id": "56c898eb-a844-4274-bed5-a0b05fd63b10",
   "metadata": {},
   "outputs": [],
   "source": [
    "encoder = Sequential([\n",
    "    Conv2D(filters=8, kernel_size=(5, 5), strides=2, activation='tanh', input_shape=event_shape),\n",
    "    Conv2D(filters=8, kernel_size=(5, 5), strides=2, activation='tanh'),\n",
    "    Flatten(),\n",
    "    Dense(units=64, activation='tanh'),\n",
    "    # The last dense layer parametrizes the mean and (diagonal entries of)\n",
    "    # the covariance matrix of a multivariate Gaussian.\n",
    "    Dense(units=2 * latent_size),\n",
    "    tfp.layers.DistributionLambda(\n",
    "        lambda t: tfd.MultivariateNormalDiag(\n",
    "            loc=t[..., :latent_size],\n",
    "            scale_diag=tf.math.exp(t[..., latent_size:])\n",
    "        )\n",
    "    )\n",
    "])"
   ]
  },
  {
   "cell_type": "code",
   "execution_count": null,
   "id": "d9faca96-6dfc-474f-85a6-184e82b239dc",
   "metadata": {},
   "outputs": [],
   "source": [
    "encoder(tf.random.normal(shape=(13, 28, 28, 1)))"
   ]
  },
  {
   "cell_type": "markdown",
   "id": "0b7a7ba0-ea23-436c-998b-9031364dc774",
   "metadata": {},
   "source": [
    "### Decoder"
   ]
  },
  {
   "cell_type": "markdown",
   "id": "0bbff0cc-d88f-4944-ae09-b20ae3efef52",
   "metadata": {},
   "source": [
    "The decoder \"decodes\" the latent vectors back into the samples, so given a latent vector $z$ it models the distribution of samples, $p(x | z)$."
   ]
  },
  {
   "cell_type": "code",
   "execution_count": null,
   "id": "c9f6aea4-17cc-4846-90b2-1dae352ee8dc",
   "metadata": {},
   "outputs": [],
   "source": [
    "decoder = Sequential([\n",
    "    Dense(units=64, activation='tanh', input_shape=(latent_size,)),\n",
    "    Dense(units=128, activation='tanh'),\n",
    "    Reshape((4, 4, 8)),\n",
    "    Conv2DTranspose(filters=8, kernel_size=(5, 5), strides=2, output_padding=1, activation='tanh'),\n",
    "    Conv2DTranspose(filters=8, kernel_size=(5, 5), strides=2, output_padding=1, activation='tanh'),\n",
    "    Conv2D(filters=1, kernel_size=(3, 3), padding='same'),\n",
    "    Flatten(),\n",
    "    tfp.layers.IndependentBernoulli(event_shape)\n",
    "])"
   ]
  },
  {
   "cell_type": "code",
   "execution_count": null,
   "id": "12079870-0457-4925-9fd5-a53a4e17e5a3",
   "metadata": {},
   "outputs": [],
   "source": []
  }
 ],
 "metadata": {
  "kernelspec": {
   "display_name": "Python 3 (ipykernel)",
   "language": "python",
   "name": "python3"
  },
  "language_info": {
   "codemirror_mode": {
    "name": "ipython",
    "version": 3
   },
   "file_extension": ".py",
   "mimetype": "text/x-python",
   "name": "python",
   "nbconvert_exporter": "python",
   "pygments_lexer": "ipython3",
   "version": "3.10.13"
  }
 },
 "nbformat": 4,
 "nbformat_minor": 5
}
