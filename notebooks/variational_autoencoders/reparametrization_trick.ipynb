{
 "cells": [
  {
   "cell_type": "markdown",
   "id": "ac7cae07-f3dd-4853-a7f3-d21903815641",
   "metadata": {},
   "source": [
    "# The reparametrization trick"
   ]
  },
  {
   "cell_type": "code",
   "execution_count": null,
   "id": "c1dd139d-ac5c-4ef2-89d1-9889fa21e477",
   "metadata": {},
   "outputs": [],
   "source": [
    "import tensorflow as tf\n",
    "import tensorflow_probability as tfp\n",
    "import matplotlib.pyplot as plt\n",
    "import seaborn as sns\n",
    "\n",
    "tfd = tfp.distributions\n",
    "\n",
    "sns.set_theme()"
   ]
  },
  {
   "cell_type": "markdown",
   "id": "65e84982-63e6-4d38-97ae-35b68625cd85",
   "metadata": {},
   "source": [
    "Let's assume we work on e 2-dimensional event space, i.e. with 2-dimensional multivariate Gaussians, with distributions parametrized by the outputs of the encoder part of a variational autoencoder. These are two tensors `z_mean` and `z_log_var` with shape `(n_samples, 2)`, parametrizing respecitively the mean and the log variance of the multivariate Gaussian corresponding to each input samples.\n",
    "\n",
    "The conversion between log variance and variance is simply\n",
    "$$\n",
    "\\sigma^2 = \\exp\\left( \\frac{1}{2} \\log\\left( \\sigma^2 \\right) \\right) = \\exp\\left( \\frac{1}{2} \\mathrm{NN}_2(x) \\right)\\,,\n",
    "$$\n",
    "where we emphasized that the second output of the encoder network is right $\\mathrm{NN}_2(x) = \\log\\left( \\sigma^2 \\right)$.\n",
    "\n",
    "**Note:** we assume independence along the two dimensions, i.e. the multivariate Gaussians are just the products of two univariate ones."
   ]
  },
  {
   "cell_type": "code",
   "execution_count": null,
   "id": "02286ed2-88c9-48b1-a5fc-c4939c1c5ce4",
   "metadata": {},
   "outputs": [],
   "source": [
    "# Simulate the outputs of the encoder.\n",
    "n_samples = 5000\n",
    "\n",
    "z_mean = tf.concat(\n",
    "    [\n",
    "        tf.random.normal(shape=(n_samples, 1), mean=-0.05, stddev=0.04),\n",
    "        tf.random.normal(shape=(n_samples, 1), mean=0.05, stddev=0.04)\n",
    "    ],\n",
    "    axis=1\n",
    ")\n",
    "\n",
    "z_log_var = tf.concat(\n",
    "    [\n",
    "        tf.random.normal(shape=(n_samples, 1), mean=-0.06, stddev=0.04),\n",
    "        tf.random.normal(shape=(n_samples, 1), mean=-0.09, stddev=0.04)\n",
    "    ],\n",
    "    axis=1\n",
    ")\n",
    "\n",
    "# Compute the variances once an for all.\n",
    "z_var = tf.exp(0.5 * z_log_var)"
   ]
  },
  {
   "cell_type": "markdown",
   "id": "6e40ac01-9dde-4afc-a531-d3ae6aad5cfb",
   "metadata": {},
   "source": [
    "## Reparametrization trick: constant variance"
   ]
  },
  {
   "cell_type": "code",
   "execution_count": null,
   "id": "a9282448-543e-495a-b3a0-744b535d222c",
   "metadata": {},
   "outputs": [],
   "source": [
    "sigma = 1e-1\n",
    "\n",
    "gaussians = tfd.Independent(\n",
    "    tfd.Normal(loc=z_mean, scale=sigma * tf.ones_like(z_mean)),\n",
    "    reinterpreted_batch_ndims=1\n",
    ")\n",
    "\n",
    "# Sample from `n_samples` independent 2-dimensional Gaussians\n",
    "# with means `z_mean` and variance `sigma` (constant across\n",
    "# distributions - i.e. input samples) along each dimension.\n",
    "samples_gaussians = gaussians.sample()\n",
    "\n",
    "# Generate samples with the reparametrization trick.\n",
    "samples_rt = z_mean + sigma * tfd.Independent(\n",
    "    tfd.Normal(loc=tf.zeros_like(z_mean), scale=tf.ones_like(z_mean)),\n",
    "    reinterpreted_batch_ndims=1\n",
    ").sample()\n",
    "\n",
    "# Plot samples.\n",
    "fig = plt.figure(figsize=(14, 6))\n",
    "\n",
    "sns.scatterplot(\n",
    "    x=samples_gaussians[:, 0],\n",
    "    y=samples_gaussians[:, 1],\n",
    "    color=sns.color_palette()[0],\n",
    "    alpha=0.4,\n",
    "    label='Samples without reparametrization'\n",
    ")\n",
    "sns.scatterplot(\n",
    "    x=samples_rt[:, 0],\n",
    "    y=samples_rt[:, 1],\n",
    "    color=sns.color_palette()[1],\n",
    "    alpha=0.4,\n",
    "    label='Samples with reparametrization'\n",
    ")"
   ]
  },
  {
   "cell_type": "markdown",
   "id": "58c579b8-4ac9-438c-947d-27e3a2fea1e0",
   "metadata": {},
   "source": [
    "## Reparametrization trick: non-constant variance"
   ]
  },
  {
   "cell_type": "markdown",
   "id": "278a1e88-35a0-4c89-8828-86bceaa78dbd",
   "metadata": {},
   "source": [
    "Let's now use the values for the variance generated from the input samples to the encoder (here they are just synthetic values)."
   ]
  },
  {
   "cell_type": "code",
   "execution_count": null,
   "id": "a387587f-66c6-4b12-929b-1ecbddb71e7e",
   "metadata": {},
   "outputs": [],
   "source": [
    "gaussians_var = tfd.Independent(\n",
    "    tfd.Normal(loc=z_mean, scale=tf.sqrt(z_var)),\n",
    "    reinterpreted_batch_ndims=1\n",
    ")\n",
    "\n",
    "# Sample from `n_samples` independent 2-dimensional Gaussians\n",
    "# with means `z_mean` and variance `z_var`.\n",
    "samples_gaussians_var = gaussians_var.sample()\n",
    "\n",
    "# Generate samples with the reparametrization trick.\n",
    "samples_var_rt = z_mean + tf.sqrt(z_var) * tfd.Independent(\n",
    "    tfd.Normal(loc=[0., 0.], scale=[1., 1.]),\n",
    "    reinterpreted_batch_ndims=1\n",
    ").sample(n_samples)\n",
    "\n",
    "# Plot samples.\n",
    "fig = plt.figure(figsize=(14, 6))\n",
    "\n",
    "sns.scatterplot(\n",
    "    x=samples_gaussians_var[:, 0],\n",
    "    y=samples_gaussians_var[:, 1],\n",
    "    color=sns.color_palette()[0],\n",
    "    alpha=0.2,\n",
    "    label='Samples without reparametrization'\n",
    ")\n",
    "\n",
    "sns.scatterplot(\n",
    "    x=samples_var_rt[:, 0],\n",
    "    y=samples_var_rt[:, 1],\n",
    "    color=sns.color_palette()[1],\n",
    "    alpha=0.2,\n",
    "    label='Samples with reparametrization'\n",
    ")"
   ]
  }
 ],
 "metadata": {
  "kernelspec": {
   "display_name": "Python 3 (ipykernel)",
   "language": "python",
   "name": "python3"
  },
  "language_info": {
   "codemirror_mode": {
    "name": "ipython",
    "version": 3
   },
   "file_extension": ".py",
   "mimetype": "text/x-python",
   "name": "python",
   "nbconvert_exporter": "python",
   "pygments_lexer": "ipython3",
   "version": "3.10.13"
  }
 },
 "nbformat": 4,
 "nbformat_minor": 5
}
