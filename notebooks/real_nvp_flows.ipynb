{
 "cells": [
  {
   "cell_type": "markdown",
   "id": "e5c0fa4c-fff1-4386-a534-7ed4f9183fa5",
   "metadata": {},
   "source": [
    "# Real NVP (non-volume-preserving) flows"
   ]
  },
  {
   "cell_type": "markdown",
   "id": "e2704aaf-2c40-4bbf-be69-47a7c23d4b2b",
   "metadata": {},
   "source": [
    "__NOTE:__ the procedure below doesn't seem to work as the Keras `Model` subclass does not seem to have trainable variables. In particular it looks like `tfb.real_nvp_default_template` doesn't produce trainable variables that either Keras or Tensorflow can track (below I try to implement a `TransformedDistribution` object directly using a real NVP and even in that case no trainable variables are seen. This is probably related to [this issue](https://github.com/tensorflow/probability/issues/1439)."
   ]
  },
  {
   "cell_type": "markdown",
   "id": "3d84059c-870d-422a-9dec-6497d99d37e8",
   "metadata": {},
   "source": [
    "__Objective:__ train a real NVP model.\n",
    "\n",
    "Source: [here](https://github.com/tensorchiefs/dl_book/blob/master/chapter_06/nb_ch06_04.ipynb)"
   ]
  },
  {
   "cell_type": "code",
   "execution_count": null,
   "id": "cbc64340-c874-4d73-a648-f3b7d885f4d6",
   "metadata": {},
   "outputs": [],
   "source": [
    "import tensorflow as tf\n",
    "import tensorflow_probability as tfp\n",
    "import matplotlib.pyplot as plt\n",
    "import seaborn as sns\n",
    "\n",
    "tfd = tfp.distributions\n",
    "tfb = tfp.bijectors\n",
    "\n",
    "sns.set_theme()"
   ]
  },
  {
   "cell_type": "markdown",
   "id": "00dc7ee9-0321-4d5e-8c2f-b689efce352b",
   "metadata": {},
   "source": [
    "## Generate data"
   ]
  },
  {
   "cell_type": "markdown",
   "id": "52108d6e-27e1-4b6c-89c6-16f5f24744ce",
   "metadata": {},
   "source": [
    "Generate a complicated distribution of points in 2 dimensions."
   ]
  },
  {
   "cell_type": "code",
   "execution_count": null,
   "id": "0f17bcc8-c0f0-4ec2-aa86-31c97825df4b",
   "metadata": {},
   "outputs": [],
   "source": [
    "n_samples = 2500\n",
    "\n",
    "x2_samples = tfd.Normal(loc=0., scale=4.).sample(n_samples)\n",
    "\n",
    "x1_samples = tfd.Normal(loc=.25 * tf.square(x2_samples), scale=tf.ones(n_samples, dtype=tf.float32)).sample()\n",
    "\n",
    "samples = tf.stack(\n",
    "    [x1_samples, x2_samples],\n",
    "    axis=1\n",
    ") / 40.\n",
    "\n",
    "samples"
   ]
  },
  {
   "cell_type": "code",
   "execution_count": null,
   "id": "83ff7fde-0314-4e25-b8a2-33a89f78596b",
   "metadata": {},
   "outputs": [],
   "source": [
    "fig = plt.figure(figsize=(14, 6))\n",
    "\n",
    "sns.scatterplot(\n",
    "    x=samples[:, 0],\n",
    "    y=samples[:, 1],\n",
    ")\n",
    "\n",
    "plt.xlabel('$x_1$')\n",
    "plt.ylabel('$x_2$')\n",
    "plt.title('Samples', fontsize=14)"
   ]
  },
  {
   "cell_type": "markdown",
   "id": "5b314a21-e9d7-4e8f-89bd-3da28c64ff96",
   "metadata": {},
   "source": [
    "## Build the NVP model"
   ]
  },
  {
   "cell_type": "markdown",
   "id": "533af12f-e6ac-455f-b2ae-69c2f0f6a239",
   "metadata": {},
   "source": [
    "Build the model as a Keras `Model` object (subclass)."
   ]
  },
  {
   "cell_type": "code",
   "execution_count": null,
   "id": "3522d013-09b8-4782-bf6e-6399a63605a4",
   "metadata": {},
   "outputs": [],
   "source": [
    "class RealNVP(tf.keras.Model):\n",
    "    \"\"\"\n",
    "    Subclass of a Keras `Model` object implementing a real\n",
    "    NVP flow.\n",
    "    \"\"\"\n",
    "    def __init__(self, *, output_dim, num_masked, **kwargs):\n",
    "        \"\"\"\n",
    "        Constructor of the real NVP.\n",
    "        \"\"\"\n",
    "        super().__init__(kwargs)\n",
    "        \n",
    "        self.output_dim = output_dim\n",
    "        self.nets = []\n",
    "        \n",
    "        bijectors = []\n",
    "        \n",
    "        num_blocks = 5  # Number of layers.\n",
    "        \n",
    "        # Number of units in the hidden layers of the NN parametrizing\n",
    "        # the affine transformation in the real NVP flow.\n",
    "        h = 32\n",
    "        \n",
    "        # Each block (layer) is composed of a real NVP flow and a\n",
    "        # permutation, written in this order but then applied in\n",
    "        # reversed order (first the permutation, then the real NVP).\n",
    "        # The resulting first permutation is actually discarded (see\n",
    "        # below).\n",
    "        for i in range(num_blocks):\n",
    "            # Build a function to be used to compute the affine\n",
    "            # parameters in the real NVP (in this case, a NN).\n",
    "            net = tfb.real_nvp_default_template(\n",
    "                hidden_layers=[h, h]  # Number of units in each hidden layer (two heads).\n",
    "            )\n",
    "            \n",
    "            # Instantiate a real NVP object and append it to\n",
    "            # the list of bijectors.\n",
    "            bijectors.append(\n",
    "                tfb.RealNVP(\n",
    "                    shift_and_log_scale_fn=net,\n",
    "                    # Number of masked dimensions.\n",
    "                    # Note: in 2 dimensions this can only be 1 to get a\n",
    "                    #       nontrivial case.\n",
    "                    num_masked=num_masked\n",
    "                )\n",
    "            )\n",
    "            \n",
    "            # Instantiate a bijector implementing the permutation\n",
    "            # operation among dimensions, so that singling out the\n",
    "            # first n dimensions in the real NVP doesn't select\n",
    "            # the same ones in each layer (block).\n",
    "            # Note: the argument is the permutation to be used,\n",
    "            #       which in our 2-dimensional case can be only\n",
    "            #       [1, 0] ([0, 1] would be the identity).\n",
    "            bijectors.append(tfb.Permute([1, 0]))\n",
    "            \n",
    "            # Append the neural network function (parametrizing the\n",
    "            # affine parameters) to keep track of it.\n",
    "            self.nets.append(net)\n",
    "            \n",
    "        # Build the full bijector corresponding to the real NVP by\n",
    "        # chaining together the bijectors in the `bijectors` list.\n",
    "        # Notes: \n",
    "        #   * We reverse the list of bijectors so that they are\n",
    "        #     applied in reversed order w.r.t. the one we populated\n",
    "        #     the list with.\n",
    "        #   * Before reversing the list, we leave out the last biijector,\n",
    "        #     which whould be a useless initial permutation.\n",
    "        bijector = tfb.Chain(list(reversed(bijectors[:-1])))\n",
    "        \n",
    "        # Instantiate the flow object: a distribution obtained starting\n",
    "        # from simple source distribution and then applying the full\n",
    "        # bijector obtained above.\n",
    "        self.flow = tfd.TransformedDistribution(\n",
    "            # Source distribution.\n",
    "            distribution=tfd.MultivariateNormalDiag(loc=[0., 0.]),\n",
    "            # Bijector (NF) to apply.\n",
    "            bijector=bijector\n",
    "        )\n",
    "        \n",
    "    def call(self, *inputs):\n",
    "        \"\"\"\n",
    "        Forward pass.\n",
    "        \"\"\"\n",
    "        return self.flow.bijector.forward(*inputs)"
   ]
  },
  {
   "cell_type": "code",
   "execution_count": null,
   "id": "b1e906b2-c9ab-4358-b017-c52bd2cf18d9",
   "metadata": {},
   "outputs": [],
   "source": [
    "model = RealNVP(output_dim=2, num_masked=1)"
   ]
  },
  {
   "cell_type": "markdown",
   "id": "abc0bbfc-851d-47f4-bf7b-8306b85b4785",
   "metadata": {},
   "source": [
    "**Note:** what the untrained flow does depends on the random initialization of the NN weights."
   ]
  },
  {
   "cell_type": "code",
   "execution_count": null,
   "id": "d257baa2-9dad-4483-b9b7-aa5bfe593351",
   "metadata": {},
   "outputs": [],
   "source": [
    "fig = plt.figure(figsize=(14, 6))\n",
    "\n",
    "sns.scatterplot(\n",
    "    x=samples[:, 0].numpy(),\n",
    "    y=samples[:, 1].numpy(),\n",
    "    label='Original samples'\n",
    ")\n",
    "\n",
    "sns.scatterplot(\n",
    "    x=model(samples)[:, 0].numpy(),\n",
    "    y=model(samples)[:, 1].numpy(),\n",
    "    label='Transformed samples (untrained flow)'\n",
    ")\n",
    "\n",
    "plt.xlabel('$x_1$')\n",
    "plt.ylabel('$x_2$')\n",
    "plt.title('Samples', fontsize=14)"
   ]
  },
  {
   "cell_type": "markdown",
   "id": "417e0e04-f001-4a6b-a339-50a1da8e282e",
   "metadata": {},
   "source": [
    "**WARNING:** no trainable variables in the model?"
   ]
  },
  {
   "cell_type": "code",
   "execution_count": null,
   "id": "d1d75824-ffac-4db1-91d8-fd3fdda52920",
   "metadata": {},
   "outputs": [],
   "source": [
    "model.summary()"
   ]
  },
  {
   "cell_type": "markdown",
   "id": "a383bea5-122e-4e3a-ad83-e72daad6429c",
   "metadata": {},
   "source": [
    "Attempt: let's implement a `TransformedDistribution` object implementing a real NVP and see if it has trainable variables. It doesn't look like it (probably `tfb.real_nvp_default_template` doesn't create them for some reason)."
   ]
  },
  {
   "cell_type": "code",
   "execution_count": null,
   "id": "b5e07ad9-761f-4371-94bc-9ad5bd7a54a1",
   "metadata": {},
   "outputs": [],
   "source": [
    "test_transf_distr = tfd.TransformedDistribution(\n",
    "    distribution=tfd.MultivariateNormalDiag(loc=[0., 0.]),\n",
    "    bijector=tfb.RealNVP(\n",
    "        num_masked=1,\n",
    "        shift_and_log_scale_fn=tfb.real_nvp_default_template([4, 4])\n",
    "    )\n",
    ")"
   ]
  },
  {
   "cell_type": "code",
   "execution_count": null,
   "id": "291932e2-f43e-49b7-b396-c7ef58f44b98",
   "metadata": {},
   "outputs": [],
   "source": [
    "test_transf_distr"
   ]
  }
 ],
 "metadata": {
  "kernelspec": {
   "display_name": "Python 3 (ipykernel)",
   "language": "python",
   "name": "python3"
  },
  "language_info": {
   "codemirror_mode": {
    "name": "ipython",
    "version": 3
   },
   "file_extension": ".py",
   "mimetype": "text/x-python",
   "name": "python",
   "nbconvert_exporter": "python",
   "pygments_lexer": "ipython3",
   "version": "3.9.7"
  }
 },
 "nbformat": 4,
 "nbformat_minor": 5
}
