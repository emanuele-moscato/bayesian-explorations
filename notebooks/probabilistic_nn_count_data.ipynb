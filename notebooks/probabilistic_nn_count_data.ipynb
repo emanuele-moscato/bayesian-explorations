{
 "cells": [
  {
   "cell_type": "markdown",
   "id": "88d465f5-9902-4c1d-95bc-770ac781727e",
   "metadata": {},
   "source": [
    "# Probabilistic deep learning for count data"
   ]
  },
  {
   "cell_type": "code",
   "execution_count": null,
   "id": "4c73e2e3-d491-4bea-8b69-9a6ef1c95e2b",
   "metadata": {},
   "outputs": [],
   "source": [
    "import pandas as pd\n",
    "import tensorflow as tf\n",
    "import tensorflow_probability as tfp\n",
    "from tensorflow.keras import Sequential\n",
    "from tensorflow.keras.layers import Dense, Activation\n",
    "import matplotlib.pyplot as plt\n",
    "import seaborn as sns\n",
    "import numpy as np\n",
    "\n",
    "tfd = tfp.distributions\n",
    "\n",
    "sns.set_theme()"
   ]
  },
  {
   "cell_type": "markdown",
   "id": "306a4c25-7293-4ee6-ad1c-ce9443d9099a",
   "metadata": {},
   "source": [
    "## Load data"
   ]
  },
  {
   "cell_type": "code",
   "execution_count": null,
   "id": "8af691b0-4bad-4018-b656-b25ccbf5af04",
   "metadata": {},
   "outputs": [],
   "source": [
    "data_path = '../data/count_data_bayesian_nn/fish.csv'\n",
    "\n",
    "data = pd.read_csv(data_path).sample(frac=1.).reset_index(drop=True)\n",
    "\n",
    "data"
   ]
  },
  {
   "cell_type": "code",
   "execution_count": null,
   "id": "5f3c3b42-b4a5-4687-a4e7-11f148341365",
   "metadata": {},
   "outputs": [],
   "source": [
    "n_training_samples = 200\n",
    "\n",
    "features = ['nofish', 'livebait', 'camper', 'persons', 'child']\n",
    "target = 'count'\n",
    "\n",
    "\n",
    "x_train = tf.constant(data[features].iloc[:n_training_samples].values, dtype=tf.float32)\n",
    "y_train = tf.constant(data[target].iloc[:n_training_samples].values, dtype=tf.float32)\n",
    "\n",
    "x_test = tf.constant(data[features].iloc[n_training_samples:].values, dtype=tf.float32)\n",
    "y_test = tf.constant(data[target].iloc[n_training_samples:].values, dtype=tf.float32)"
   ]
  },
  {
   "cell_type": "markdown",
   "id": "469ea104-068a-4e7a-8153-9f948a0c18ae",
   "metadata": {},
   "source": [
    "## Define a probabilistic NN outputting Poisson distributions"
   ]
  },
  {
   "cell_type": "code",
   "execution_count": null,
   "id": "7c130bcc-515e-43f3-8080-b50a22239f54",
   "metadata": {},
   "outputs": [],
   "source": [
    "model = Sequential([\n",
    "    Dense(units=1, input_shape=(5,)),\n",
    "    Activation('exponential'),\n",
    "    tfp.layers.DistributionLambda(\n",
    "        lambda t: tfd.Poisson(rate=t[..., -1])\n",
    "    )\n",
    "])"
   ]
  },
  {
   "cell_type": "code",
   "execution_count": null,
   "id": "4dc273bf-249b-4c01-a2e1-c53b7091059d",
   "metadata": {},
   "outputs": [],
   "source": [
    "def nll(y_true, y_pred):\n",
    "    \"\"\"\n",
    "    Negative log likelihood of the data w.r.t. to\n",
    "    the predictions (probability distributions),\n",
    "    to be used the loss function for model training.\n",
    "    \"\"\"\n",
    "    return - y_pred.log_prob(y_true)"
   ]
  },
  {
   "cell_type": "code",
   "execution_count": null,
   "id": "6df3f1bf-8438-4343-98f1-4ab25668d900",
   "metadata": {},
   "outputs": [],
   "source": [
    "model.compile(\n",
    "    optimizer=tf.keras.optimizers.SGD(learning_rate=0.001),\n",
    "    loss=nll,\n",
    "    metrics=[tf.keras.metrics.RootMeanSquaredError()]\n",
    ")"
   ]
  },
  {
   "cell_type": "code",
   "execution_count": null,
   "id": "9d606266-4724-47ac-965e-b599aa5a585e",
   "metadata": {},
   "outputs": [],
   "source": [
    "model.summary()"
   ]
  },
  {
   "cell_type": "code",
   "execution_count": null,
   "id": "3c7369e6-e110-4048-bebd-95823f0edd48",
   "metadata": {},
   "outputs": [],
   "source": [
    "history = model.fit(\n",
    "    x=x_train,\n",
    "    y=y_train,\n",
    "    epochs=300,\n",
    "    verbose=0\n",
    ")"
   ]
  },
  {
   "cell_type": "code",
   "execution_count": null,
   "id": "c6a9e3ea-91b2-495c-b540-e66122bf3567",
   "metadata": {},
   "outputs": [],
   "source": [
    "fig, axs = plt.subplots(nrows=2, ncols=1, figsize=(14, 10), sharex=True)\n",
    "\n",
    "sns.lineplot(\n",
    "    x=range(len(history.history['loss'])),\n",
    "    y=history.history['loss'],\n",
    "    ax=axs[0]\n",
    ")\n",
    "\n",
    "plt.sca(axs[0])\n",
    "plt.ylabel('Loss value')\n",
    "plt.title('Training loss')\n",
    "\n",
    "sns.lineplot(\n",
    "    x=range(len(history.history['root_mean_squared_error'])),\n",
    "    y=history.history['root_mean_squared_error'],\n",
    "    ax=axs[1]\n",
    ")\n",
    "\n",
    "plt.sca(axs[1])\n",
    "plt.ylabel('RMSE value')\n",
    "plt.xlabel('Epoch')\n",
    "plt.title('Training RMSE')"
   ]
  },
  {
   "cell_type": "markdown",
   "id": "3fcbc507-dfc0-4654-b856-2bcc868363bc",
   "metadata": {},
   "source": [
    "Acting with the model on a batch of datapoints generates a batch of Poisson distributions."
   ]
  },
  {
   "cell_type": "code",
   "execution_count": null,
   "id": "2bca7179-7ae6-4911-a186-4716143c13ec",
   "metadata": {},
   "outputs": [],
   "source": [
    "model(x_test)"
   ]
  },
  {
   "cell_type": "markdown",
   "id": "cc7ec2bf-4843-445f-b25b-035ecf9b8934",
   "metadata": {},
   "source": [
    "Because we used the default value for the `convert_to_tensor_fn` option of the `DistributionLambda` layer, the model's `predict` method (which needs to generate tensors from distributions) corresponds to sampling the distributions."
   ]
  },
  {
   "cell_type": "code",
   "execution_count": null,
   "id": "03d5faa0-71fc-41b2-815a-4d9be113d0fe",
   "metadata": {},
   "outputs": [],
   "source": [
    "model.predict(x_test)"
   ]
  },
  {
   "cell_type": "markdown",
   "id": "74e37688-268e-45d1-b703-448282c97335",
   "metadata": {},
   "source": [
    "RMSE on training and test data. Because the model outputs distributions that we can sample, we can generate a distribution of RMSE (each sample is a prediction for all components of the `x_test` input).\n",
    "\n",
    "__Question:__ why is the test RMSE (distribution) smaller than the training one?"
   ]
  },
  {
   "cell_type": "code",
   "execution_count": null,
   "id": "8fcc4774-9978-4a71-9a2f-e8763194facb",
   "metadata": {},
   "outputs": [],
   "source": [
    "training_rmse_distr = tf.sqrt(tf.reduce_mean(tf.square(model(x_train).sample(10000) - y_train), axis=-1))\n",
    "test_rmse_distr = tf.sqrt(tf.reduce_mean(tf.square(model(x_test).sample(10000) - y_test), axis=-1))"
   ]
  },
  {
   "cell_type": "code",
   "execution_count": null,
   "id": "10a6715d-3293-45f4-8c99-6743192fdbd3",
   "metadata": {},
   "outputs": [],
   "source": [
    "fig = plt.figure(figsize=(14, 6))\n",
    "\n",
    "sns.histplot(\n",
    "    x=test_rmse_distr.numpy(),\n",
    "    stat='density',\n",
    "    label='Test',\n",
    "    color=sns.color_palette()[0]\n",
    ")\n",
    "\n",
    "sns.histplot(\n",
    "    x=training_rmse_distr.numpy(),\n",
    "    stat='density',\n",
    "    label='Training',\n",
    "    color=sns.color_palette()[1]\n",
    ")\n",
    "\n",
    "plt.xlabel('RMSE')\n",
    "plt.title('Distribution of RMSE')\n",
    "plt.legend()"
   ]
  },
  {
   "cell_type": "markdown",
   "id": "3c706c1c-4506-4bb4-8301-97d6d628c478",
   "metadata": {},
   "source": [
    "Training and test loss (NLL) value."
   ]
  },
  {
   "cell_type": "code",
   "execution_count": null,
   "id": "59d32283-ef7e-4130-a6b3-38a221b5c7cd",
   "metadata": {},
   "outputs": [],
   "source": [
    "print(\n",
    "    'Training loss:',\n",
    "    nll(y_train, model(x_train)).numpy().mean()\n",
    ")\n",
    "\n",
    "print(\n",
    "    'Test loss:',\n",
    "    nll(y_test, model(x_test)).numpy().mean()\n",
    ")"
   ]
  },
  {
   "cell_type": "markdown",
   "id": "34d2f2f0-6212-49b1-9af1-c6c585e6d942",
   "metadata": {},
   "source": [
    "Plot the true vs the predicted values, including the numerical computation of percentiles 2.5 and 97.5 (so as to have the 95% credibility interval, centered on the predicted value)."
   ]
  },
  {
   "cell_type": "code",
   "execution_count": null,
   "id": "bc4bc7af-b846-4e1d-9ed9-34035a14e5da",
   "metadata": {},
   "outputs": [],
   "source": [
    "fig = plt.figure(figsize=(14, 6))\n",
    "\n",
    "pred_distr_mean = model(x_test).mean()\n",
    "\n",
    "sns.scatterplot(\n",
    "    x=pred_distr_mean,\n",
    "    y=y_test,\n",
    "    color=sns.color_palette()[0],\n",
    "    label='Data'\n",
    ")\n",
    "\n",
    "x_plot = tf.linspace(\n",
    "    pred_distr_mean.numpy().min(),\n",
    "    pred_distr_mean.numpy().max(),\n",
    "    100\n",
    ")\n",
    "\n",
    "sns.lineplot(\n",
    "    x=x_plot,\n",
    "    y=x_plot,\n",
    "    color=sns.color_palette()[1],\n",
    "    label='actual = pred line'\n",
    ")\n",
    "\n",
    "# Percentiles.\n",
    "unique_pred_distr_mean = np.sort(np.unique(pred_distr_mean.numpy()))\n",
    "\n",
    "poisson_distr = tfd.Poisson(rate=unique_pred_distr_mean)\n",
    "\n",
    "lower_percentiles = tfp.stats.percentile(\n",
    "    poisson_distr.sample(10000), 2.5, axis=0\n",
    ").numpy()[np.argsort(unique_pred_distr_mean)]\n",
    "\n",
    "higher_percentiles = tfp.stats.percentile(\n",
    "    poisson_distr.sample(10000), 97.5, axis=0\n",
    ").numpy()[np.argsort(unique_pred_distr_mean)]\n",
    "\n",
    "sns.lineplot(\n",
    "    x=unique_pred_distr_mean,\n",
    "    y=lower_percentiles,\n",
    "    linestyle='dashed',\n",
    "    color=sns.color_palette()[1]\n",
    ")\n",
    "\n",
    "sns.lineplot(\n",
    "    x=unique_pred_distr_mean,\n",
    "    y=higher_percentiles,\n",
    "    linestyle='dashed',\n",
    "    color=sns.color_palette()[1]\n",
    ")\n",
    "\n",
    "plt.xlabel('Predictions (distribution mean)')\n",
    "plt.ylabel('Actual data')\n",
    "plt.legend()"
   ]
  },
  {
   "cell_type": "markdown",
   "id": "fb1e6c74-734b-4864-a4ec-ec102ec5cb37",
   "metadata": {},
   "source": [
    "## Define a probabilistic NN outputting zero-inflated Poisson distributions"
   ]
  },
  {
   "cell_type": "markdown",
   "id": "238d5fe8-bafc-4542-a916-ca7ecf2839e3",
   "metadata": {},
   "source": [
    "The zero-inflated Poisson distribution is useful when there are many more zeros than expected from a regular Poisson distribution. Its definition is:\n",
    "- The value is 0 with probability $p$.\n",
    "- The value is sampled from a Poisson distribution with rate $\\lambda$ with probability $1 - p$."
   ]
  },
  {
   "cell_type": "code",
   "execution_count": null,
   "id": "20682b2c-02c2-4529-a049-7fc8f941aae9",
   "metadata": {},
   "outputs": [],
   "source": [
    "def build_zero_inflated_poisson(input_tensor):\n",
    "    \"\"\"\n",
    "    Given an input tensor, returns a mixture distribution made\n",
    "    of a deterministic and a Poisson one.\n",
    "    \n",
    "    Note: the sigmoid and the exponential functions are applied\n",
    "          so that the probabilities are in [0, 1] and the rates\n",
    "          are non-negative.\n",
    "    \"\"\"\n",
    "    # Build a tensor of probabilities for the mixture\n",
    "    # from the input tensor.\n",
    "    probs = tf.math.sigmoid(input_tensor[..., :1])\n",
    "    probs = tf.concat([probs, 1. - probs], axis=-1)\n",
    "    \n",
    "    # Build a tensor of rates for the Poisson distribution\n",
    "    # in the mixture.\n",
    "    rates = tf.squeeze(tf.math.exp(input_tensor[..., 1:]))\n",
    "        \n",
    "    return tfd.Mixture(\n",
    "        cat=tfd.Categorical(probs=probs),\n",
    "        components=[\n",
    "            tfd.Deterministic(loc=tf.zeros_like(rates)),\n",
    "            tfd.Poisson(rate=rates)\n",
    "        ]\n",
    "    )"
   ]
  },
  {
   "cell_type": "code",
   "execution_count": null,
   "id": "d7ccb533-d247-4f5c-9aaf-49bf125d2a83",
   "metadata": {},
   "outputs": [],
   "source": [
    "test_zip_params = tf.random.uniform(shape=(10, 2))\n",
    "\n",
    "build_zero_inflated_poisson(test_zip_params)"
   ]
  },
  {
   "cell_type": "code",
   "execution_count": null,
   "id": "362a39be-b5a2-4e0b-a327-a9a3b128744b",
   "metadata": {},
   "outputs": [],
   "source": [
    "build_zero_inflated_poisson(test_zip_params).sample(11)"
   ]
  },
  {
   "cell_type": "markdown",
   "id": "d4cc9bd2-b0c2-4453-a76e-500da7427f5f",
   "metadata": {},
   "source": [
    "Build model."
   ]
  },
  {
   "cell_type": "code",
   "execution_count": null,
   "id": "f1a9ec07-ab40-487f-9b5c-68d0365c8738",
   "metadata": {},
   "outputs": [],
   "source": [
    "zip_model = Sequential([\n",
    "    Dense(units=2),\n",
    "    tfp.layers.DistributionLambda(\n",
    "        lambda t: build_zero_inflated_poisson(t)\n",
    "    )\n",
    "])"
   ]
  },
  {
   "cell_type": "code",
   "execution_count": null,
   "id": "3e605e1d-8c75-4fcd-9541-84617f627b1a",
   "metadata": {},
   "outputs": [],
   "source": [
    "zip_model.compile(\n",
    "    optimizer=tf.keras.optimizers.SGD(learning_rate=0.001),\n",
    "    loss=nll,\n",
    "    metrics=[tf.keras.metrics.RootMeanSquaredError()]\n",
    ")"
   ]
  },
  {
   "cell_type": "code",
   "execution_count": null,
   "id": "883a1606-e7de-403c-9b54-d314140e211e",
   "metadata": {},
   "outputs": [],
   "source": [
    "zip_model(x_train)"
   ]
  },
  {
   "cell_type": "code",
   "execution_count": null,
   "id": "1be4782a-f67d-43f2-bb27-700704eadd0a",
   "metadata": {},
   "outputs": [],
   "source": [
    "zip_model.summary()"
   ]
  },
  {
   "cell_type": "code",
   "execution_count": null,
   "id": "efe46fba-79be-4aec-a289-794ad74a967e",
   "metadata": {},
   "outputs": [],
   "source": [
    "zip_history = zip_model.fit(\n",
    "    x=x_train,\n",
    "    y=y_train,\n",
    "    epochs=500,\n",
    "    verbose=0\n",
    ")"
   ]
  },
  {
   "cell_type": "code",
   "execution_count": null,
   "id": "3cf09e31-95ff-4bd9-90ed-1372248391f6",
   "metadata": {},
   "outputs": [],
   "source": [
    "fig, axs = plt.subplots(nrows=2, ncols=1, figsize=(14, 10), sharex=True)\n",
    "\n",
    "sns.lineplot(\n",
    "    x=range(len(zip_history.history['loss'])),\n",
    "    y=zip_history.history['loss'],\n",
    "    ax=axs[0]\n",
    ")\n",
    "\n",
    "plt.sca(axs[0])\n",
    "plt.ylabel('Loss value')\n",
    "plt.title('Training loss')\n",
    "\n",
    "sns.lineplot(\n",
    "    x=range(len(zip_history.history['root_mean_squared_error'])),\n",
    "    y=zip_history.history['root_mean_squared_error'],\n",
    "    ax=axs[1]\n",
    ")\n",
    "\n",
    "plt.sca(axs[1])\n",
    "plt.ylabel('RMSE value')\n",
    "plt.xlabel('Epoch')\n",
    "plt.title('Training RMSE')"
   ]
  },
  {
   "cell_type": "markdown",
   "id": "c8730599-2bbd-43d7-bd7d-28f4ef55ee43",
   "metadata": {},
   "source": [
    "Model evaluation."
   ]
  },
  {
   "cell_type": "code",
   "execution_count": null,
   "id": "6b271e0d-edc7-4c5a-95ef-1aec4fe0f0d5",
   "metadata": {},
   "outputs": [],
   "source": [
    "zip_training_rmse_distr = tf.sqrt(tf.reduce_mean(tf.square(zip_model(x_train).sample(10000) - y_train), axis=-1))\n",
    "zip_test_rmse_distr = tf.sqrt(tf.reduce_mean(tf.square(zip_model(x_test).sample(10000) - y_test), axis=-1))"
   ]
  },
  {
   "cell_type": "code",
   "execution_count": null,
   "id": "e8684c26-4ad8-4eaa-8d53-c78884b2acd5",
   "metadata": {},
   "outputs": [],
   "source": [
    "fig = plt.figure(figsize=(14, 6))\n",
    "\n",
    "sns.histplot(\n",
    "    x=zip_test_rmse_distr.numpy(),\n",
    "    stat='density',\n",
    "    label='Test',\n",
    "    color=sns.color_palette()[0]\n",
    ")\n",
    "\n",
    "sns.histplot(\n",
    "    x=zip_training_rmse_distr.numpy(),\n",
    "    stat='density',\n",
    "    label='Training',\n",
    "    color=sns.color_palette()[1]\n",
    ")\n",
    "\n",
    "plt.xlabel('RMSE')\n",
    "plt.title('Distribution of RMSE')\n",
    "plt.legend()"
   ]
  },
  {
   "cell_type": "code",
   "execution_count": null,
   "id": "90cf5d9f-4779-4d70-a6bd-fff42b34a1b3",
   "metadata": {},
   "outputs": [],
   "source": [
    "print(\n",
    "    'Training loss:',\n",
    "    nll(y_train, zip_model(x_train)).numpy().mean()\n",
    ")\n",
    "\n",
    "print(\n",
    "    'Test loss:',\n",
    "    nll(y_test, zip_model(x_test)).numpy().mean()\n",
    ")"
   ]
  },
  {
   "cell_type": "code",
   "execution_count": null,
   "id": "08bdf5ab-7c5b-4c1c-90f9-438c22af8ce1",
   "metadata": {},
   "outputs": [],
   "source": [
    "fig = plt.figure(figsize=(14, 6))\n",
    "\n",
    "pred_distr_mean = zip_model(x_test).mean()\n",
    "\n",
    "sns.scatterplot(\n",
    "    x=pred_distr_mean,\n",
    "    y=y_test,\n",
    "    color=sns.color_palette()[0],\n",
    "    label='Data'\n",
    ")\n",
    "\n",
    "x_plot = tf.linspace(\n",
    "    pred_distr_mean.numpy().min(),\n",
    "    pred_distr_mean.numpy().max(),\n",
    "    100\n",
    ")\n",
    "\n",
    "sns.lineplot(\n",
    "    x=x_plot,\n",
    "    y=x_plot,\n",
    "    color=sns.color_palette()[1],\n",
    "    label='actual = pred line'\n",
    ")\n",
    "\n",
    "# Percentiles.\n",
    "unique_pred_distr_mean = np.sort(np.unique(pred_distr_mean.numpy()))\n",
    "\n",
    "poisson_distr = tfd.Poisson(rate=unique_pred_distr_mean)\n",
    "\n",
    "lower_percentiles = tfp.stats.percentile(\n",
    "    poisson_distr.sample(10000), 2.5, axis=0\n",
    ").numpy()[np.argsort(unique_pred_distr_mean)]\n",
    "\n",
    "higher_percentiles = tfp.stats.percentile(\n",
    "    poisson_distr.sample(10000), 97.5, axis=0\n",
    ").numpy()[np.argsort(unique_pred_distr_mean)]\n",
    "\n",
    "sns.lineplot(\n",
    "    x=unique_pred_distr_mean,\n",
    "    y=lower_percentiles,\n",
    "    linestyle='dashed',\n",
    "    color=sns.color_palette()[1]\n",
    ")\n",
    "\n",
    "sns.lineplot(\n",
    "    x=unique_pred_distr_mean,\n",
    "    y=higher_percentiles,\n",
    "    linestyle='dashed',\n",
    "    color=sns.color_palette()[1]\n",
    ")\n",
    "\n",
    "plt.xlabel('Predictions (distribution mean)')\n",
    "plt.ylabel('Actual data')\n",
    "plt.legend()"
   ]
  }
 ],
 "metadata": {
  "kernelspec": {
   "display_name": "Python 3 (ipykernel)",
   "language": "python",
   "name": "python3"
  },
  "language_info": {
   "codemirror_mode": {
    "name": "ipython",
    "version": 3
   },
   "file_extension": ".py",
   "mimetype": "text/x-python",
   "name": "python",
   "nbconvert_exporter": "python",
   "pygments_lexer": "ipython3",
   "version": "3.9.7"
  }
 },
 "nbformat": 4,
 "nbformat_minor": 5
}
