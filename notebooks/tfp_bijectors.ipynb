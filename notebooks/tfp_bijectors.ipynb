{
 "cells": [
  {
   "cell_type": "markdown",
   "id": "ea8eded3-9fc4-48f4-aa32-e60acc65d599",
   "metadata": {},
   "source": [
    "# TFP bijectors"
   ]
  },
  {
   "cell_type": "markdown",
   "id": "e80b5dba-279d-40a5-bcb6-e83c77884db1",
   "metadata": {},
   "source": [
    "__Objective:__ explore bijectors in Tensorflow Probability."
   ]
  },
  {
   "cell_type": "markdown",
   "id": "aad3ae81-6fe1-4f71-b065-275f626d0a53",
   "metadata": {},
   "source": [
    "Source: [here](https://github.com/tensorchiefs/dl_book/blob/master/chapter_06/nb_ch06_03.ipynb)"
   ]
  },
  {
   "cell_type": "code",
   "execution_count": null,
   "id": "53e419b6-c123-47f0-8418-4a7910f2d71c",
   "metadata": {},
   "outputs": [],
   "source": [
    "import tensorflow as tf\n",
    "import tensorflow_probability as tfp\n",
    "import matplotlib.pyplot as plt\n",
    "import seaborn as sns\n",
    "\n",
    "tfd = tfp.distributions\n",
    "\n",
    "sns.set_theme()"
   ]
  },
  {
   "cell_type": "markdown",
   "id": "daeac62b-a86e-4a55-8c55-5189d8fe20f9",
   "metadata": {},
   "source": [
    "## Using bijectors to trasform samples"
   ]
  },
  {
   "cell_type": "markdown",
   "id": "d15808a3-b31e-4b9e-a1f0-33167e47d48b",
   "metadata": {},
   "source": [
    "Generate uniformly distributed samples in the $[0, 10]$ interval."
   ]
  },
  {
   "cell_type": "code",
   "execution_count": null,
   "id": "b33910d0-272c-4f8f-b1e0-e8731e9de363",
   "metadata": {},
   "outputs": [],
   "source": [
    "samples = tfd.Uniform(low=0., high=10.).sample(10000)"
   ]
  },
  {
   "cell_type": "code",
   "execution_count": null,
   "id": "45b9f853-9945-41dc-af24-a074abbfecf4",
   "metadata": {},
   "outputs": [],
   "source": [
    "fig = plt.figure(figsize=(14, 6))\n",
    "\n",
    "sns.histplot(\n",
    "    x=samples.numpy(),\n",
    "    stat='density'\n",
    ")\n",
    "\n",
    "plt.title('Uniform samples', fontsize=14)\n",
    "plt.xlabel('x')"
   ]
  },
  {
   "cell_type": "markdown",
   "id": "5da0cdd4-2176-426f-9d28-002ddcc69cb6",
   "metadata": {},
   "source": [
    "Instantiate a `Square` bijector and apply it to the samples. The original samples were obtained from a uniform distribution,\n",
    "$$\n",
    "p_x(x) = \\mathcal{U}\\left( x | 1, 10\\right) =\n",
    "\\left\\lbrace\\begin{array}{l}\n",
    "\\frac{1}{10}\\quad\\text{if}\\quad x\\in[0, 10] \\\\\n",
    "0\\quad\\text{otherwise}\n",
    "\\end{array}\\right.\n",
    "$$\n",
    "and are mapped to a new space $z$ such that\n",
    "$$\n",
    "z = x^2.\n",
    "$$\n",
    "\n",
    "The probability density on $z$ is given by the transformation rule\n",
    "$$\n",
    "p_z(z) = p_x(x)\\, \\left| \\frac{\\mathrm{d}x}{\\mathrm{d}z} \\right| = p_x(x)\\, \\frac{1}{2\\sqrt{z}} = \\frac{1}{20 \\sqrt{z}},\n",
    "$$\n",
    "where we assumed that the inverse transofrmation is $x = \\sqrt{z}$ (otherwise it wouldn't have been invertible)."
   ]
  },
  {
   "cell_type": "code",
   "execution_count": null,
   "id": "f98b9cd2-7ec0-4308-968f-25f226bd203e",
   "metadata": {},
   "outputs": [],
   "source": [
    "square_bij = tfp.bijectors.Square()"
   ]
  },
  {
   "cell_type": "markdown",
   "id": "77ecfb7d-006e-4334-8306-842371e62e6f",
   "metadata": {},
   "source": [
    "Transformations are applied with the `forward` and the `inverse` methods, which correspond to the direct and the inverse transformations respectively."
   ]
  },
  {
   "cell_type": "code",
   "execution_count": null,
   "id": "9655596e-8a31-4374-9985-eefe96c60711",
   "metadata": {},
   "outputs": [],
   "source": [
    "transformed_samples = square_bij.forward(samples)"
   ]
  },
  {
   "cell_type": "code",
   "execution_count": null,
   "id": "f7f4faea-82df-46a4-a97f-2f8aa99b8e3d",
   "metadata": {},
   "outputs": [],
   "source": [
    "fig = plt.figure(figsize=(14, 6))\n",
    "\n",
    "sns.histplot(\n",
    "    x=transformed_samples.numpy(),\n",
    "    stat='density',\n",
    "    color=sns.color_palette()[0],\n",
    "    label='Transformed samples'\n",
    ")\n",
    "\n",
    "x_plot = tf.linspace(0.5, 100., 1000)\n",
    "y_plot = 1. / (20. * tf.sqrt(x_plot))\n",
    "\n",
    "sns.lineplot(\n",
    "    x=x_plot,\n",
    "    y=y_plot,\n",
    "    color=sns.color_palette()[1],\n",
    "    label='Analytical result'\n",
    ")\n",
    "\n",
    "plt.title('Transformed samples', fontsize=14)\n",
    "plt.xlabel('z')\n",
    "plt.legend()"
   ]
  },
  {
   "cell_type": "markdown",
   "id": "af5a7e6f-f1b2-4f1d-8b4a-fefc5a3187c9",
   "metadata": {},
   "source": [
    "The transformed samples can be brought back to the original space via the inverse transformation."
   ]
  },
  {
   "cell_type": "code",
   "execution_count": null,
   "id": "b9eb2cbf-ad94-423c-9a08-d9d0866347ff",
   "metadata": {},
   "outputs": [],
   "source": [
    "fig = plt.figure(figsize=(14, 6))\n",
    "\n",
    "sns.histplot(\n",
    "    x=square_bij.inverse(transformed_samples).numpy(),\n",
    "    stat='density',\n",
    "    color=sns.color_palette()[0]\n",
    ")\n",
    "\n",
    "plt.title('Transformed samples mapped back to the original space', fontsize=14)\n",
    "plt.xlabel('x')"
   ]
  },
  {
   "cell_type": "markdown",
   "id": "cc2c5e4b-5bc7-40ad-bb75-9a349011e25a",
   "metadata": {},
   "source": [
    "## Using bijectors to transform distributions"
   ]
  },
  {
   "cell_type": "markdown",
   "id": "7acc8887-3528-4d40-b86d-22fe1c27c524",
   "metadata": {},
   "source": [
    "Distributions can be transformed via bijectors as well, using the `TransformedDistribution` object, which accepts a \"source\" distribution and a bijector as its inputs, outputting another distribution corresponding to the mapping of the source one through the bijector."
   ]
  },
  {
   "cell_type": "code",
   "execution_count": null,
   "id": "4fb1ead2-71cb-4306-aadb-c3b016f3feaf",
   "metadata": {},
   "outputs": [],
   "source": [
    "# Sampling this distribution is equivalent to sampling\n",
    "# the source one and then applying the transformation\n",
    "# to the samples.\n",
    "square_distr = tfd.TransformedDistribution(\n",
    "    distribution=tfd.Uniform(low=0., high=10.),\n",
    "    bijector=square_bij\n",
    ")"
   ]
  },
  {
   "cell_type": "code",
   "execution_count": null,
   "id": "3d7c2e22-0a61-41d7-8804-53e7c2b1d7b1",
   "metadata": {},
   "outputs": [],
   "source": [
    "transformed_distr_samples = square_distr.sample(10000)"
   ]
  },
  {
   "cell_type": "code",
   "execution_count": null,
   "id": "8c3385fd-a1b2-4fa2-bb5e-be8885b6bcc9",
   "metadata": {},
   "outputs": [],
   "source": [
    "fig = plt.figure(figsize=(14, 6))\n",
    "\n",
    "sns.histplot(\n",
    "    x=transformed_distr_samples.numpy(),\n",
    "    stat='density',\n",
    "    color=sns.color_palette()[0],\n",
    "    label='Samples from the transformed distribution',\n",
    "    alpha=0.5\n",
    ")\n",
    "\n",
    "sns.histplot(\n",
    "    x=transformed_samples.numpy(),\n",
    "    stat='density',\n",
    "    color=sns.color_palette()[1],\n",
    "    label='Transformed samples',\n",
    "    alpha=0.5\n",
    ")\n",
    "\n",
    "plt.title('Samples from the transformed distribution', fontsize=14)\n",
    "plt.xlabel('z')\n",
    "plt.legend()"
   ]
  },
  {
   "cell_type": "markdown",
   "id": "ec2de295-1c04-4a58-aa18-a4a4265af889",
   "metadata": {},
   "source": [
    "## Compositions of bijectors"
   ]
  },
  {
   "cell_type": "markdown",
   "id": "06fbc873-42f5-4c28-976e-6fa705e36eb1",
   "metadata": {},
   "source": [
    "Bijectors can be composed via the `Chain` object in order to obtain a composed transformation.\n",
    "\n",
    "__Note:__ bijectors are applied in reverse order, **from the last in the list to the first one**."
   ]
  },
  {
   "cell_type": "markdown",
   "id": "ed6958ec-47fe-4650-bf5e-c2e90e2bdc38",
   "metadata": {},
   "source": [
    "In this case, the tranformation is\n",
    "$$\n",
    "z = \\log^2(x)\\,,\n",
    "$$\n",
    "so if we start from a uniform distribution on $[1, 10]$ (we stay away from $0$ as we need to apply a log) we have:\n",
    "$$\n",
    "p_z(z) = \\frac{e^\\sqrt{z}}{18\\sqrt{z}}\\,.\n",
    "$$"
   ]
  },
  {
   "cell_type": "code",
   "execution_count": null,
   "id": "c8b3946a-8206-4228-b2c5-1d7f9c293e93",
   "metadata": {},
   "outputs": [],
   "source": [
    "composed_bij = tfp.bijectors.Chain(\n",
    "    bijectors=[\n",
    "        tfp.bijectors.Square(),\n",
    "        tfp.bijectors.Log()\n",
    "    ]\n",
    ")\n",
    "\n",
    "transf_comp_distr = tfd.TransformedDistribution(\n",
    "    distribution=tfd.Uniform(low=1., high=10.),\n",
    "    bijector=composed_bij\n",
    ")"
   ]
  },
  {
   "cell_type": "code",
   "execution_count": null,
   "id": "24c8e5dc-b7b7-49f9-a32a-16a5f559d75e",
   "metadata": {},
   "outputs": [],
   "source": [
    "comp_samples = transf_comp_distr.sample(10000)"
   ]
  },
  {
   "cell_type": "code",
   "execution_count": null,
   "id": "ca6173fc-ba74-4e65-ae78-b8ff1ad843de",
   "metadata": {},
   "outputs": [],
   "source": [
    "comp_samples.numpy().min(), comp_samples.numpy().max()"
   ]
  },
  {
   "cell_type": "code",
   "execution_count": null,
   "id": "444a347a-d75a-4365-a867-5491c9bdaead",
   "metadata": {},
   "outputs": [],
   "source": [
    "fig = plt.figure(figsize=(14, 6))\n",
    "\n",
    "sns.histplot(\n",
    "    x=comp_samples.numpy(),\n",
    "    stat='density',\n",
    "    color=sns.color_palette()[0],\n",
    "    label='Samples'\n",
    ")\n",
    "\n",
    "x_plot = tf.linspace(.01, comp_samples.numpy().max(), 1000)\n",
    "y_plot = tf.exp(tf.sqrt(x_plot)) / (18. * tf.sqrt(x_plot))\n",
    "\n",
    "sns.lineplot(\n",
    "    x=x_plot,\n",
    "    y=y_plot,\n",
    "    color=sns.color_palette()[1],\n",
    "    label='Analytical result'\n",
    ")\n",
    "\n",
    "plt.title('Samples from the transformed distribution', fontsize=14)\n",
    "plt.xlabel('z')\n",
    "plt.legend()"
   ]
  }
 ],
 "metadata": {
  "kernelspec": {
   "display_name": "Python 3 (ipykernel)",
   "language": "python",
   "name": "python3"
  },
  "language_info": {
   "codemirror_mode": {
    "name": "ipython",
    "version": 3
   },
   "file_extension": ".py",
   "mimetype": "text/x-python",
   "name": "python",
   "nbconvert_exporter": "python",
   "pygments_lexer": "ipython3",
   "version": "3.9.7"
  }
 },
 "nbformat": 4,
 "nbformat_minor": 5
}
