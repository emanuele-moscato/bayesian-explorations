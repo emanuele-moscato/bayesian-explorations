{
 "cells": [
  {
   "cell_type": "markdown",
   "id": "ea8eded3-9fc4-48f4-aa32-e60acc65d599",
   "metadata": {},
   "source": [
    "# TFP bijectors"
   ]
  },
  {
   "cell_type": "markdown",
   "id": "e80b5dba-279d-40a5-bcb6-e83c77884db1",
   "metadata": {},
   "source": [
    "__Objective:__ explore bijectors in Tensorflow Probability."
   ]
  },
  {
   "cell_type": "markdown",
   "id": "189961c6-252e-4cb9-aecc-ecf2734a0dd7",
   "metadata": {},
   "source": [
    "**Syntax hint:** the behaviour of a `bijector` object when **called** upon another object depends on the type of the latter, with three cases:\n",
    "- When called on a **tensor of samples**, the resulting object is a tensor of transformed samples (equivalent to applying the bijector's `forward` method).\n",
    "- When called on a distribution, the resulting object is a `TansformedDistribution` object corresponding to the transformed distribution through the bijector (equivalent to using `TransformedDistribution` specifying the base - source - distribution and the bijector).\n",
    "- When called on another bijector, the resulting object is a bijector equivalent to the chain of bijector (via a `Chain` object), with the inner-most being applied first."
   ]
  },
  {
   "cell_type": "markdown",
   "id": "aad3ae81-6fe1-4f71-b065-275f626d0a53",
   "metadata": {},
   "source": [
    "Source: [here](https://github.com/tensorchiefs/dl_book/blob/master/chapter_06/nb_ch06_03.ipynb)"
   ]
  },
  {
   "cell_type": "code",
   "execution_count": null,
   "id": "53e419b6-c123-47f0-8418-4a7910f2d71c",
   "metadata": {},
   "outputs": [],
   "source": [
    "import tensorflow as tf\n",
    "import tensorflow_probability as tfp\n",
    "import numpy as np\n",
    "import matplotlib.pyplot as plt\n",
    "import seaborn as sns\n",
    "\n",
    "tfd = tfp.distributions\n",
    "\n",
    "sns.set_theme()"
   ]
  },
  {
   "cell_type": "markdown",
   "id": "daeac62b-a86e-4a55-8c55-5189d8fe20f9",
   "metadata": {},
   "source": [
    "## Using bijectors to trasform samples"
   ]
  },
  {
   "cell_type": "markdown",
   "id": "d15808a3-b31e-4b9e-a1f0-33167e47d48b",
   "metadata": {},
   "source": [
    "Generate uniformly distributed samples in the $[0, 10]$ interval."
   ]
  },
  {
   "cell_type": "code",
   "execution_count": null,
   "id": "b33910d0-272c-4f8f-b1e0-e8731e9de363",
   "metadata": {},
   "outputs": [],
   "source": [
    "uniform_distr = tfd.Uniform(low=0., high=10.)\n",
    "\n",
    "samples = uniform_distr.sample(10000)"
   ]
  },
  {
   "cell_type": "code",
   "execution_count": null,
   "id": "45b9f853-9945-41dc-af24-a074abbfecf4",
   "metadata": {},
   "outputs": [],
   "source": [
    "fig = plt.figure(figsize=(14, 6))\n",
    "\n",
    "sns.histplot(\n",
    "    x=samples.numpy(),\n",
    "    stat='density'\n",
    ")\n",
    "\n",
    "plt.title('Uniform samples', fontsize=14)\n",
    "plt.xlabel('x')"
   ]
  },
  {
   "cell_type": "markdown",
   "id": "5da0cdd4-2176-426f-9d28-002ddcc69cb6",
   "metadata": {},
   "source": [
    "Instantiate a `Square` bijector and apply it to the samples. The original samples were obtained from a uniform distribution,\n",
    "$$\n",
    "p_x(x) = \\mathcal{U}\\left( x | 1, 10\\right) =\n",
    "\\left\\lbrace\\begin{array}{l}\n",
    "\\frac{1}{10}\\quad\\text{if}\\quad x\\in[0, 10] \\\\\n",
    "0\\quad\\text{otherwise}\n",
    "\\end{array}\\right.\n",
    "$$\n",
    "and are mapped to a new space $z$ such that\n",
    "$$\n",
    "z = x^2.\n",
    "$$\n",
    "\n",
    "The probability density on $z$ is given by the transformation rule\n",
    "$$\n",
    "p_z(z) = p_x(x)\\, \\left| \\frac{\\mathrm{d}x}{\\mathrm{d}z} \\right| = p_x(x)\\, \\frac{1}{2\\sqrt{z}} = \\frac{1}{20 \\sqrt{z}},\n",
    "$$\n",
    "where we assumed that the inverse transofrmation is $x = \\sqrt{z}$ (otherwise it wouldn't have been invertible)."
   ]
  },
  {
   "cell_type": "code",
   "execution_count": null,
   "id": "f98b9cd2-7ec0-4308-968f-25f226bd203e",
   "metadata": {},
   "outputs": [],
   "source": [
    "square_bij = tfp.bijectors.Square()"
   ]
  },
  {
   "cell_type": "markdown",
   "id": "77ecfb7d-006e-4334-8306-842371e62e6f",
   "metadata": {},
   "source": [
    "Transformations are applied with the `forward` and the `inverse` methods, which correspond to the direct and the inverse transformations respectively."
   ]
  },
  {
   "cell_type": "code",
   "execution_count": null,
   "id": "9655596e-8a31-4374-9985-eefe96c60711",
   "metadata": {},
   "outputs": [],
   "source": [
    "transformed_samples = square_bij.forward(samples)"
   ]
  },
  {
   "cell_type": "code",
   "execution_count": null,
   "id": "f7f4faea-82df-46a4-a97f-2f8aa99b8e3d",
   "metadata": {},
   "outputs": [],
   "source": [
    "fig = plt.figure(figsize=(14, 6))\n",
    "\n",
    "sns.histplot(\n",
    "    x=transformed_samples.numpy(),\n",
    "    stat='density',\n",
    "    color=sns.color_palette()[0],\n",
    "    label='Transformed samples'\n",
    ")\n",
    "\n",
    "x_plot = tf.linspace(0.5, 100., 1000)\n",
    "y_plot = 1. / (20. * tf.sqrt(x_plot))\n",
    "\n",
    "sns.lineplot(\n",
    "    x=x_plot,\n",
    "    y=y_plot,\n",
    "    color=sns.color_palette()[1],\n",
    "    label='Analytical result'\n",
    ")\n",
    "\n",
    "plt.title('Transformed samples', fontsize=14)\n",
    "plt.xlabel('z')\n",
    "plt.legend()"
   ]
  },
  {
   "cell_type": "markdown",
   "id": "af5a7e6f-f1b2-4f1d-8b4a-fefc5a3187c9",
   "metadata": {},
   "source": [
    "The transformed samples can be brought back to the original space via the **inverse** transformation."
   ]
  },
  {
   "cell_type": "code",
   "execution_count": null,
   "id": "b9eb2cbf-ad94-423c-9a08-d9d0866347ff",
   "metadata": {},
   "outputs": [],
   "source": [
    "fig = plt.figure(figsize=(14, 6))\n",
    "\n",
    "sns.histplot(\n",
    "    x=square_bij.inverse(transformed_samples).numpy(),\n",
    "    stat='density',\n",
    "    color=sns.color_palette()[0]\n",
    ")\n",
    "\n",
    "plt.title('Transformed samples mapped back to the original space', fontsize=14)\n",
    "plt.xlabel('x')"
   ]
  },
  {
   "cell_type": "markdown",
   "id": "cc2c5e4b-5bc7-40ad-bb75-9a349011e25a",
   "metadata": {},
   "source": [
    "## Using bijectors to transform distributions"
   ]
  },
  {
   "cell_type": "markdown",
   "id": "7acc8887-3528-4d40-b86d-22fe1c27c524",
   "metadata": {},
   "source": [
    "Distributions can be transformed via bijectors as well, using the `TransformedDistribution` object, which accepts a \"source\" distribution and a bijector as its inputs, outputting another distribution corresponding to the mapping of the source one through the bijector."
   ]
  },
  {
   "cell_type": "code",
   "execution_count": null,
   "id": "4fb1ead2-71cb-4306-aadb-c3b016f3feaf",
   "metadata": {},
   "outputs": [],
   "source": [
    "# Sampling this distribution is equivalent to sampling\n",
    "# the source one and then applying the transformation\n",
    "# to the samples.\n",
    "square_distr = tfd.TransformedDistribution(\n",
    "    distribution=tfd.Uniform(low=0., high=10.),\n",
    "    bijector=square_bij\n",
    ")"
   ]
  },
  {
   "cell_type": "code",
   "execution_count": null,
   "id": "3d7c2e22-0a61-41d7-8804-53e7c2b1d7b1",
   "metadata": {},
   "outputs": [],
   "source": [
    "transformed_distr_samples = square_distr.sample(10000)"
   ]
  },
  {
   "cell_type": "code",
   "execution_count": null,
   "id": "8c3385fd-a1b2-4fa2-bb5e-be8885b6bcc9",
   "metadata": {},
   "outputs": [],
   "source": [
    "fig = plt.figure(figsize=(14, 6))\n",
    "\n",
    "sns.histplot(\n",
    "    x=transformed_distr_samples.numpy(),\n",
    "    stat='density',\n",
    "    color=sns.color_palette()[0],\n",
    "    label='Samples from the transformed distribution',\n",
    "    alpha=0.5\n",
    ")\n",
    "\n",
    "sns.histplot(\n",
    "    x=transformed_samples.numpy(),\n",
    "    stat='density',\n",
    "    color=sns.color_palette()[1],\n",
    "    label='Transformed samples',\n",
    "    alpha=0.5\n",
    ")\n",
    "\n",
    "plt.title('Samples from the transformed distribution', fontsize=14)\n",
    "plt.xlabel('z')\n",
    "plt.legend()"
   ]
  },
  {
   "cell_type": "markdown",
   "id": "327dc8dd-c402-4385-b605-957481b35a90",
   "metadata": {},
   "source": [
    "`TransformedDistribution` objects can also be created directly calling the bijector on the source distribution."
   ]
  },
  {
   "cell_type": "code",
   "execution_count": null,
   "id": "e79699e1-9583-45d2-b9de-958e170f9b12",
   "metadata": {},
   "outputs": [],
   "source": [
    "square_distr_2 = square_bij(tfd.Uniform(low=0., high=10.))\n",
    "\n",
    "square_distr_2"
   ]
  },
  {
   "cell_type": "code",
   "execution_count": null,
   "id": "0cb760cb-3f28-49cb-b950-0c0eca3d9bae",
   "metadata": {},
   "outputs": [],
   "source": [
    "fig = plt.figure(figsize=(14, 6))\n",
    "\n",
    "sns.histplot(\n",
    "    x=square_distr_2.sample(10000).numpy(),\n",
    "    stat='density',\n",
    "    color=sns.color_palette()[1],\n",
    "    label='Transformed samples',\n",
    "    alpha=0.5\n",
    ")\n",
    "\n",
    "plt.title('Samples from the transformed distribution', fontsize=14)\n",
    "plt.xlabel('z')\n",
    "plt.legend()"
   ]
  },
  {
   "cell_type": "markdown",
   "id": "ec2de295-1c04-4a58-aa18-a4a4265af889",
   "metadata": {},
   "source": [
    "## Compositions of bijectors"
   ]
  },
  {
   "cell_type": "markdown",
   "id": "06fbc873-42f5-4c28-976e-6fa705e36eb1",
   "metadata": {},
   "source": [
    "Bijectors can be composed via the `Chain` object in order to obtain a composed transformation.\n",
    "\n",
    "__Note:__ bijectors are applied in reverse order, **from the last in the list to the first one**."
   ]
  },
  {
   "cell_type": "markdown",
   "id": "ed6958ec-47fe-4650-bf5e-c2e90e2bdc38",
   "metadata": {},
   "source": [
    "In this case, the tranformation is\n",
    "$$\n",
    "z = \\log^2(x)\\,,\n",
    "$$\n",
    "so if we start from a uniform distribution on $[1, 10]$ (we stay away from $0$ as we need to apply a log) we have:\n",
    "$$\n",
    "p_z(z) = \\frac{e^\\sqrt{z}}{18\\sqrt{z}}\\,.\n",
    "$$"
   ]
  },
  {
   "cell_type": "code",
   "execution_count": null,
   "id": "c8b3946a-8206-4228-b2c5-1d7f9c293e93",
   "metadata": {},
   "outputs": [],
   "source": [
    "composed_bij = tfp.bijectors.Chain(\n",
    "    bijectors=[\n",
    "        tfp.bijectors.Square(),\n",
    "        tfp.bijectors.Log()\n",
    "    ]\n",
    ")\n",
    "\n",
    "transf_comp_distr = tfd.TransformedDistribution(\n",
    "    distribution=tfd.Uniform(low=1., high=10.),\n",
    "    bijector=composed_bij\n",
    ")"
   ]
  },
  {
   "cell_type": "code",
   "execution_count": null,
   "id": "24c8e5dc-b7b7-49f9-a32a-16a5f559d75e",
   "metadata": {},
   "outputs": [],
   "source": [
    "comp_samples = transf_comp_distr.sample(10000)"
   ]
  },
  {
   "cell_type": "code",
   "execution_count": null,
   "id": "ca6173fc-ba74-4e65-ae78-b8ff1ad843de",
   "metadata": {},
   "outputs": [],
   "source": [
    "comp_samples.numpy().min(), comp_samples.numpy().max()"
   ]
  },
  {
   "cell_type": "code",
   "execution_count": null,
   "id": "444a347a-d75a-4365-a867-5491c9bdaead",
   "metadata": {},
   "outputs": [],
   "source": [
    "fig = plt.figure(figsize=(14, 6))\n",
    "\n",
    "sns.histplot(\n",
    "    x=comp_samples.numpy(),\n",
    "    stat='density',\n",
    "    color=sns.color_palette()[0],\n",
    "    label='Samples'\n",
    ")\n",
    "\n",
    "x_plot = tf.linspace(.01, comp_samples.numpy().max(), 1000)\n",
    "y_plot = tf.exp(tf.sqrt(x_plot)) / (18. * tf.sqrt(x_plot))\n",
    "\n",
    "sns.lineplot(\n",
    "    x=x_plot,\n",
    "    y=y_plot,\n",
    "    color=sns.color_palette()[1],\n",
    "    label='Analytical result'\n",
    ")\n",
    "\n",
    "plt.title('Samples from the transformed distribution', fontsize=14)\n",
    "plt.xlabel('z')\n",
    "plt.legend()"
   ]
  },
  {
   "cell_type": "markdown",
   "id": "ed6f4f65-dcf6-41c4-a0ba-bf903cd4494a",
   "metadata": {},
   "source": [
    "Bijectors can also be composed by calling one on the other. Transformations are applied from the inner-most bijector to the outer-most one in the chain of calls. Let's implement an **affine transformation** (a scaling frollowed by a shift) this way."
   ]
  },
  {
   "cell_type": "code",
   "execution_count": null,
   "id": "f6175e49-c298-4ef8-97a5-46ca0ad5aec5",
   "metadata": {},
   "outputs": [],
   "source": [
    "scale_bij = tfp.bijectors.Scale(3.)\n",
    "shift_bij = tfp.bijectors.Shift(-1.)\n",
    "\n",
    "# This composition is equivalent to:\n",
    "# tfp.bijectors.Chain([shift_bij, scale_bij])\n",
    "affine_bij = shift_bij(scale_bij)"
   ]
  },
  {
   "cell_type": "code",
   "execution_count": null,
   "id": "e55b0271-92bc-4ded-9471-8345cd546d21",
   "metadata": {},
   "outputs": [],
   "source": [
    "affine_transf_samples = affine_bij.forward(samples)"
   ]
  },
  {
   "cell_type": "code",
   "execution_count": null,
   "id": "a5b70e04-c199-4bc6-a4ff-a5245b6062a9",
   "metadata": {},
   "outputs": [],
   "source": [
    "fig = plt.figure(figsize=(14, 6))\n",
    "\n",
    "sns.histplot(\n",
    "    x=samples.numpy(),\n",
    "    stat='density',\n",
    "    color=sns.color_palette()[0],\n",
    "    label='Samples',\n",
    "    alpha=0.5\n",
    ")\n",
    "\n",
    "sns.histplot(\n",
    "    x=affine_transf_samples.numpy(),\n",
    "    stat='density',\n",
    "    color=sns.color_palette()[1],\n",
    "    label='Affine-transformed samples',\n",
    "    alpha=0.5\n",
    ")\n",
    "\n",
    "plt.title('Samples and their affine transformation', fontsize=14)\n",
    "plt.xlabel('x')\n",
    "plt.legend()"
   ]
  },
  {
   "cell_type": "markdown",
   "id": "4556c1b8-8031-465c-bb31-42bc36826995",
   "metadata": {},
   "source": [
    "## Computing (log) probabilities"
   ]
  },
  {
   "cell_type": "markdown",
   "id": "e8e7c5eb-e145-4121-94a8-6101ceb970c8",
   "metadata": {},
   "source": [
    "Let's go back to our uniformly distribution and square bijector and distribution. We can compute the log probability of the transformed samples in two ways:\n",
    "- Take the transformed distribution and use its `log_prob` method on the transformed samples.\n",
    "- Take the original samples and compute the difference between the `log_prob` yielded by the original uniform distribution they were drawn from and the log of the absolute value of the determinant of the Jacobian of the square transformation (which is obtained via the the bijector's `forward_log_det_jacobian` method).\n",
    "\n",
    "The second method works because of the change of variable formula for probability density: if $x, z \\in \\mathbb{R}^d$ we have\n",
    "$$\n",
    "p_x(x) = \\left\\vert \\det(J) \\right\\vert\\, p_z(z),\n",
    "$$\n",
    "\n",
    "where $J = \\left[ \\frac{\\partial z_i}{\\partial x_j} \\right]$ is the Jacobian matrix of the transformation $x \\to z(x)$ and in the formula $z$ takes the value $z=z(x)$. Inverting this we get\n",
    "$$\n",
    "p_z(z) = \\left\\vert \\det(J) \\right\\vert^{-1}\\, p_x(x),\n",
    "$$\n",
    "\n",
    "where now $x$ is evaluated at the value corresponding to $z$ via the inverse transformation ($x=x(z)$).\n",
    "\n",
    "**Note:** had we started directy with the inverse transformation ($z \\to x(z)$) we would have got the inverse Jacobian, but since the determinant of the inverse matrix is the inverse of the determinant of the matrix itself, we would have obtained exactly the same formula.\n",
    "\n",
    "Taking the log on both sides we get the formula for the second mathod mentioned above:\n",
    "$$\n",
    "\\log(p_z(z)) = \\log(p_x(x)) - \\log\\left(\\left\\vert \\det(J) \\right\\vert \\right)\\,.\n",
    "$$"
   ]
  },
  {
   "cell_type": "code",
   "execution_count": null,
   "id": "a36f2f02-35c9-41c9-b98f-00f09a1633cf",
   "metadata": {},
   "outputs": [],
   "source": [
    "# First method.\n",
    "square_distr.log_prob(transformed_samples)"
   ]
  },
  {
   "cell_type": "code",
   "execution_count": null,
   "id": "52ecfe09-f787-4f26-97bf-4ee6f5d51acc",
   "metadata": {},
   "outputs": [],
   "source": [
    "# Second method.\n",
    "# Note: the `event_ndims` argument indicates how many of the right-most\n",
    "#       dimensions of the tensor to interpret as event shape.\n",
    "uniform_distr.log_prob(samples) - square_bij.forward_log_det_jacobian(samples, event_ndims=0)"
   ]
  },
  {
   "cell_type": "code",
   "execution_count": null,
   "id": "7cb2a06e-6bf7-4a87-8350-96c81a900a3b",
   "metadata": {},
   "outputs": [],
   "source": [
    "# Check that the result is the same.\n",
    "np.isclose(\n",
    "    square_distr.log_prob(transformed_samples).numpy(),\n",
    "    uniform_distr.log_prob(samples) - square_bij.forward_log_det_jacobian(samples, event_ndims=0)\n",
    ").all()"
   ]
  },
  {
   "cell_type": "markdown",
   "id": "9e8919ff-3d58-4062-aa22-bb373ab7d675",
   "metadata": {},
   "source": [
    "## Bijectors and broadcasting"
   ]
  },
  {
   "cell_type": "markdown",
   "id": "c9a90176-61d3-4dfa-9c99-63ac5158f4dd",
   "metadata": {},
   "source": [
    "If we pass a list of parameters to a bijector and then apply it to some samples tensor, the shape of the tensor is broadcast against the list of parameters (if possible, otherwise and error is raised)."
   ]
  },
  {
   "cell_type": "code",
   "execution_count": null,
   "id": "5c0839d0-5f30-4904-aadc-5892e07e14b2",
   "metadata": {},
   "outputs": [],
   "source": [
    "gaussian_samples = tfd.Normal(loc=4., scale=.5).sample((10000, 1))"
   ]
  },
  {
   "cell_type": "code",
   "execution_count": null,
   "id": "6814fb6e-0c3d-4b79-84a8-5a88831014d7",
   "metadata": {},
   "outputs": [],
   "source": [
    "softfloor_bij = tfp.bijectors.Softfloor(temperature=[0.4, 1.2])\n",
    "\n",
    "# The shape of the samples tensor is broadcast against the number of\n",
    "# parameter falues in the bijector.\n",
    "# Shape: (n_samples, softfloor_bij.temperature.shape).\n",
    "softfloor_transf_samples = softfloor_bij.forward(gaussian_samples)"
   ]
  },
  {
   "cell_type": "code",
   "execution_count": null,
   "id": "ff0df493-a5e2-4f28-a3bc-f939bff96f76",
   "metadata": {},
   "outputs": [],
   "source": [
    "fig = plt.figure(figsize=(14, 6))\n",
    "\n",
    "sns.histplot(\n",
    "    x=gaussian_samples[:, 0].numpy(),\n",
    "    stat='density',\n",
    "    color=sns.color_palette()[0],\n",
    "    label='Gaussian samples',\n",
    "    alpha=0.5,\n",
    ")\n",
    "\n",
    "for i in range(softfloor_transf_samples.shape[1]):\n",
    "    sns.histplot(\n",
    "        x=softfloor_transf_samples[:, i].numpy(),\n",
    "        stat='density',\n",
    "        color=sns.color_palette()[i+1],\n",
    "        label='Transformed samples (softfloor)',\n",
    "        alpha=0.5\n",
    "    )\n",
    "\n",
    "plt.title('Samples and their transformation', fontsize=14)\n",
    "plt.xlabel('x')\n",
    "plt.legend()"
   ]
  },
  {
   "cell_type": "markdown",
   "id": "b4c0a027-5f31-4046-b516-d545a54ffbef",
   "metadata": {},
   "source": [
    "## Linear operator bijectors"
   ]
  },
  {
   "cell_type": "markdown",
   "id": "63827502-0cfb-4e91-8177-cc003e6187c0",
   "metadata": {},
   "source": [
    "Linear operator bijectors implement linear operations on tensors or batches of distributions. They perform various linear algebra operations between the objects (tensors, batches of distributions) and some other given tensors of parameters."
   ]
  },
  {
   "cell_type": "code",
   "execution_count": null,
   "id": "16b8043c-42ed-42ed-8aad-0de1a610fa26",
   "metadata": {},
   "outputs": [],
   "source": [
    "# Batch shape: (4,).\n",
    "base_gaussian = tfd.Normal(loc=[2.] * 4, scale=[.5] * 4)\n",
    "\n",
    "base_gaussian"
   ]
  },
  {
   "cell_type": "markdown",
   "id": "2480f695-2458-443a-a402-6f5de0c58ab3",
   "metadata": {},
   "source": [
    "Create a lower triangular matrix by applying a `LinearOperatorLowerTriangular` operator to a tensor of shape (4, 4). The result is another tensor of shape (4, 4) that will be used as the parameter for a bijector."
   ]
  },
  {
   "cell_type": "code",
   "execution_count": null,
   "id": "3f44dd26-a1d2-4221-85c0-8ac5e840a689",
   "metadata": {},
   "outputs": [],
   "source": [
    "lower_tr_mat = tf.linalg.LinearOperatorLowerTriangular(2. * tf.ones(shape=(4, 4)))\n",
    "\n",
    "lower_tr_mat.to_dense()"
   ]
  },
  {
   "cell_type": "markdown",
   "id": "ecf34ff2-f1a5-4fd0-a2d1-48ef7db7ce58",
   "metadata": {},
   "source": [
    "Define a `ScaleMatvecLinearOperator` bijector performing matrix multiplication of the base distribution (batch) with the specified tensor."
   ]
  },
  {
   "cell_type": "code",
   "execution_count": null,
   "id": "9cd593a8-b82e-4296-864a-851b12db409b",
   "metadata": {},
   "outputs": [],
   "source": [
    "scale_lower_triangular_bij = tfp.bijectors.ScaleMatvecLinearOperator(lower_tr_mat)"
   ]
  },
  {
   "cell_type": "code",
   "execution_count": null,
   "id": "b1cb1f6c-d038-4056-8715-566283b00378",
   "metadata": {},
   "outputs": [],
   "source": [
    "scale_lower_triangular_bij(base_gaussian).sample()"
   ]
  },
  {
   "cell_type": "markdown",
   "id": "7f468d1d-2400-418e-80ec-82cc0a42d8bc",
   "metadata": {},
   "source": [
    "## Bijector subclassing"
   ]
  },
  {
   "cell_type": "markdown",
   "id": "51f4271c-06bf-4332-a822-87996d3d734a",
   "metadata": {},
   "source": [
    "If in need to define a custom bijector for which there's no TFP implementation, a new one can be defined by subclassing the `Bijector` base class. As an example, we define the new `Affine` bijector, implementing an affine coordinate transformation (a rescaling followed by a shift)."
   ]
  },
  {
   "cell_type": "code",
   "execution_count": null,
   "id": "936d9b76-28e5-4143-81e1-8f7bebd57737",
   "metadata": {},
   "outputs": [],
   "source": [
    "class AffineBijector(tfp.bijectors.Bijector):\n",
    "    \"\"\"\n",
    "    Implementation of an affine bijector, i.e. an affine tranformation\n",
    "    of the form\n",
    "        x -> y(x) = shift + scale * x\n",
    "    \"\"\"\n",
    "    def __init__(self, scale, shift, validate_args=False, name='affine'):\n",
    "        \"\"\"\n",
    "        Constructor method. The `validate_args` and `name` arguments\n",
    "        are mandatory.\n",
    "        \"\"\"\n",
    "        # The `forward_min_event_ndims` argument of the parent class'\n",
    "        # constructor indicates the minimum event dimension of the\n",
    "        # bijector that is being implemented, in the forward transformation\n",
    "        # (it can be different between the forward and the inverse one).\n",
    "        # The `is_constant_jacobian` argument is used to specify that the\n",
    "        # Jacobian is independent from the point at which it's evaluated.\n",
    "        # This allows for caching of the value of the Jacobian, bringing\n",
    "        # performance gains.\n",
    "        super().__init__(\n",
    "            validate_args=validate_args,\n",
    "            forward_min_event_ndims=0,\n",
    "            is_constant_jacobian=True,\n",
    "            name=name\n",
    "        )\n",
    "\n",
    "        # Bijector's parameters.\n",
    "        self.scale = scale\n",
    "        self.shift = shift\n",
    "\n",
    "    def _forward(self, x):\n",
    "        \"\"\"\n",
    "        Implements the forward (direct) tranformation.\n",
    "        \"\"\"\n",
    "        return tfp.bijectors.Shift(self.shift)(\n",
    "            tfp.bijectors.Scale(self.scale)\n",
    "        )(x)\n",
    "\n",
    "    def _inverse(self, y):\n",
    "        \"\"\"\n",
    "        Implements the inverse tranformation.\n",
    "        \"\"\"\n",
    "        return tfp.bijectors.Scale(1./self.scale)(\n",
    "            tfp.bijectors.Shift(-self.shift)\n",
    "        )(y)\n",
    "\n",
    "    def _inverse_log_det_jacobian(self, y):\n",
    "        \"\"\"\n",
    "        Implements the computation of the logarithm of the\n",
    "        absolute determinant of the Jacobian of the inverse tranformation\n",
    "        (to be applied to transformed samples, or to samples\n",
    "        in the transformed space).\n",
    "        \"\"\"\n",
    "        return - tf.math.log(tf.abs(self.scale))\n",
    "\n",
    "    def _forward_log_det_jacobian(self, x):\n",
    "        \"\"\"\n",
    "        Implements the computation of the logarithm of the\n",
    "        absolute determinant of the Jacobian of the forward (direct)\n",
    "        transformation (to be applied to non-transformed samples,\n",
    "        or to samples in the non-transformed space).\n",
    "        \"\"\"\n",
    "        return - self._inverse_log_det_jacobian(self._forward(x))"
   ]
  },
  {
   "cell_type": "code",
   "execution_count": null,
   "id": "583e2859-e48c-4394-b757-ea13d1dc00bf",
   "metadata": {},
   "outputs": [],
   "source": [
    "affine_bij_class = AffineBijector(shift=-1., scale=2.)\n",
    "\n",
    "affine_bij_class.forward(tf.constant([1., 2., 3., 4.]))"
   ]
  },
  {
   "cell_type": "code",
   "execution_count": null,
   "id": "1508317e-2fc2-4ba0-ada6-97bf931a65ff",
   "metadata": {},
   "outputs": [],
   "source": [
    "samples_plot = tfd.Normal(loc=2., scale=1.).sample(10000)\n",
    "affine_class_transf_samples = affine_bij_class(samples_plot)\n",
    "\n",
    "fig = plt.figure(figsize=(14, 6))\n",
    "\n",
    "sns.histplot(\n",
    "    x=samples_plot.numpy(),\n",
    "    stat='density',\n",
    "    color=sns.color_palette()[0],\n",
    "    label='Gaussian samples',\n",
    "    alpha=0.5,\n",
    ")\n",
    "\n",
    "sns.histplot(\n",
    "    x=affine_class_transf_samples.numpy(),\n",
    "    stat='density',\n",
    "    color=sns.color_palette()[1],\n",
    "    label='Transformed samples (affine)',\n",
    "    alpha=0.5\n",
    ")\n",
    "\n",
    "plt.title('Samples and their transformation', fontsize=14)\n",
    "plt.xlabel('Value')\n",
    "plt.legend()"
   ]
  }
 ],
 "metadata": {
  "kernelspec": {
   "display_name": "Python 3 (ipykernel)",
   "language": "python",
   "name": "python3"
  },
  "language_info": {
   "codemirror_mode": {
    "name": "ipython",
    "version": 3
   },
   "file_extension": ".py",
   "mimetype": "text/x-python",
   "name": "python",
   "nbconvert_exporter": "python",
   "pygments_lexer": "ipython3",
   "version": "3.10.13"
  }
 },
 "nbformat": 4,
 "nbformat_minor": 5
}
