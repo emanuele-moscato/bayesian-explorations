{
 "cells": [
  {
   "cell_type": "markdown",
   "id": "e531aa68-5e7b-4f7a-8da5-f4e9f4d0eeb1",
   "metadata": {},
   "source": [
    "# Bayesian CNN"
   ]
  },
  {
   "cell_type": "markdown",
   "id": "84bcf3e9-8ac7-472e-9684-34090a611777",
   "metadata": {},
   "source": [
    "__Objective:__ experiment with a Bayesian CNN to classify images from the CIFAR-10 dataset."
   ]
  },
  {
   "cell_type": "code",
   "execution_count": null,
   "id": "1fe58b9b-b1d6-44e2-869f-69d11def6f2a",
   "metadata": {},
   "outputs": [],
   "source": [
    "import tensorflow as tf\n",
    "import tensorflow_probability as tfp\n",
    "import matplotlib.pyplot as plt\n",
    "import seaborn as sns\n",
    "\n",
    "tfd = tfp.distributions\n",
    "\n",
    "sns.set_theme()"
   ]
  },
  {
   "cell_type": "markdown",
   "id": "0fb5a2ff-3591-45b7-8ee4-0e9eb6a5a1ee",
   "metadata": {},
   "source": [
    "## Load data"
   ]
  },
  {
   "cell_type": "code",
   "execution_count": null,
   "id": "edcac5dc-90aa-4e52-a149-a663daf9c99c",
   "metadata": {},
   "outputs": [],
   "source": [
    "(x_train, y_train), (x_test, y_test) = tf.keras.datasets.cifar10.load_data()"
   ]
  },
  {
   "cell_type": "code",
   "execution_count": null,
   "id": "ba8d7c85-431c-436a-9aad-cd76ef571b60",
   "metadata": {},
   "outputs": [],
   "source": [
    "x_train.shape, y_train.shape, x_test.shape, y_test.shape"
   ]
  },
  {
   "cell_type": "code",
   "execution_count": null,
   "id": "da32aa4b-a2ad-49c1-87d7-1ae15f91300a",
   "metadata": {},
   "outputs": [],
   "source": [
    "class_labels = {\n",
    "    0: 'airplane',\n",
    "    1: 'automobile',\n",
    "    2: 'bird',\n",
    "    3: 'cat',\n",
    "    4: 'deer',\n",
    "    5: 'dog',\n",
    "    6: 'frog',\n",
    "    7: 'horse',\n",
    "    8: 'ship',\n",
    "    9: 'truck'\n",
    "}"
   ]
  },
  {
   "cell_type": "code",
   "execution_count": null,
   "id": "3ffcfdd3-8ab2-42b7-93ba-4120b12a7059",
   "metadata": {},
   "outputs": [],
   "source": [
    "fig, axs = plt.subplots(nrows=1, ncols=6, figsize=(14, 6))\n",
    "\n",
    "random_indices = tf.random.shuffle(tf.range(0, x_train.shape[0]))[:6]\n",
    "\n",
    "for i, ax in enumerate(axs):\n",
    "    ax.imshow(x_train[random_indices[i], ...])\n",
    "    \n",
    "    plt.sca(ax)\n",
    "    plt.title(f'Class: {class_labels[y_train[random_indices[i]][0]]}')"
   ]
  },
  {
   "cell_type": "markdown",
   "id": "01960b61-78e3-46ea-afa4-13a444eb6446",
   "metadata": {},
   "source": [
    "Eliminate class 7 (horses) from the training dataset to then test the model on previously unseen classes."
   ]
  },
  {
   "cell_type": "code",
   "execution_count": null,
   "id": "5b15b336-26fe-422d-882f-f2902e1d9a3a",
   "metadata": {},
   "outputs": [],
   "source": [
    "x_train = tf.constant(x_train, dtype=tf.float32)\n",
    "x_test = tf.constant(x_test, dtype=tf.float32)"
   ]
  },
  {
   "cell_type": "code",
   "execution_count": null,
   "id": "0329727c-7f69-4526-8f62-6fe11073a72b",
   "metadata": {},
   "outputs": [],
   "source": [
    "x_train_missing_class = x_train[y_train[:, 0] != 7]\n",
    "y_train_missing_class = y_train[y_train[:, 0] != 7]"
   ]
  },
  {
   "cell_type": "code",
   "execution_count": null,
   "id": "04b98a09-8dfe-4bfd-8e7f-82807fff8f7f",
   "metadata": {},
   "outputs": [],
   "source": [
    "y_train_missing_class_one_hot = tf.one_hot(\n",
    "    y_train_missing_class[:, 0],\n",
    "    depth=9\n",
    ")\n",
    "\n",
    "y_train_missing_class_one_hot"
   ]
  },
  {
   "cell_type": "markdown",
   "id": "a86496ec-1fce-4b3f-99e8-b3c724d8b761",
   "metadata": {},
   "source": [
    "## Model building"
   ]
  },
  {
   "cell_type": "markdown",
   "id": "10642468-cd79-4160-b0eb-e91852c18744",
   "metadata": {},
   "source": [
    "Build a Bayesian CNN with `Convolution2DFlipout` layers. By default, only the kernel weights are treated in a Bayesian way: we could force the same for the bias terms but that would further increase the number of parameters (which is already doubled w.r.t. the non-Bayesian counterpart, as now for each of the original weights there are the $\\mu$ and $\\sigma$ parameters of its approximate posterior (variational distribution)."
   ]
  },
  {
   "cell_type": "code",
   "execution_count": null,
   "id": "37636a7e-c333-405f-9f3e-3c7e259b1ea5",
   "metadata": {},
   "outputs": [],
   "source": [
    "def kernel_divergence_fn(q, p, _):\n",
    "    \"\"\"\n",
    "    \"\"\"\n",
    "    return tfd.kl_divergence(p, q) / (x_train.shape[0] * 1.)\n",
    "\n",
    "\n",
    "class BayesianCNN(tf.keras.layers.Layer):\n",
    "    \"\"\"\n",
    "    Keras `Layer` object implementing a Bayesian CNN. Structure:\n",
    "      * Convolutional block (2 `Convolution2DFlipout` layers).\n",
    "      * Maxpooling.\n",
    "      * Convolutional block (2 `Convolution2DFlipout` layers).\n",
    "      * Maxpooling.\n",
    "      * Flattening.\n",
    "      * Fully connected block (2 `DenseFlipout` layers and a\n",
    "          final output one).\n",
    "    \"\"\"\n",
    "    def __init__(self):\n",
    "        \"\"\"\n",
    "        \"\"\"\n",
    "        super().__init__()\n",
    "        \n",
    "        # Initialize the internal layers.\n",
    "        self.conv_block_1 = [\n",
    "            tfp.layers.Convolution2DFlipout(\n",
    "                8,\n",
    "                kernel_size=(3, 3),\n",
    "                padding='same',\n",
    "                activation='relu',\n",
    "                kernel_divergence_fn=kernel_divergence_fn\n",
    "            ),\n",
    "            tfp.layers.Convolution2DFlipout(\n",
    "                8,\n",
    "                kernel_size=(3, 3),\n",
    "                padding='same',\n",
    "                activation='relu',\n",
    "                kernel_divergence_fn=kernel_divergence_fn\n",
    "            ),\n",
    "            tf.keras.layers.MaxPooling2D((2, 2))\n",
    "        ]\n",
    "        \n",
    "        self.conv_block_2 = [\n",
    "            tfp.layers.Convolution2DFlipout(\n",
    "                16,\n",
    "                kernel_size=(3, 3),\n",
    "                padding='same',\n",
    "                activation='relu',\n",
    "                kernel_divergence_fn=kernel_divergence_fn\n",
    "            ),\n",
    "            tfp.layers.Convolution2DFlipout(\n",
    "                16,\n",
    "                kernel_size=(3, 3),\n",
    "                padding='same',\n",
    "                activation='relu',\n",
    "                kernel_divergence_fn=kernel_divergence_fn\n",
    "            ),\n",
    "            tf.keras.layers.MaxPooling2D((2, 2))\n",
    "        ]\n",
    "        \n",
    "        self.flatten = tf.keras.layers.Flatten()\n",
    "        \n",
    "        self.dense_block = [\n",
    "            tfp.layers.DenseFlipout(units=100, activation='relu', kernel_divergence_fn=kernel_divergence_fn),\n",
    "            tfp.layers.DenseFlipout(units=100, activation='relu', kernel_divergence_fn=kernel_divergence_fn),\n",
    "        ]\n",
    "        \n",
    "        self.output_layer = tfp.layers.DenseFlipout(units=9, activation='softmax', kernel_divergence_fn=kernel_divergence_fn)\n",
    "\n",
    "    def call(self, x):\n",
    "        \"\"\"\n",
    "        Forward pass.\n",
    "        \"\"\"\n",
    "        for conv_layer in self.conv_block_1:\n",
    "            x = conv_layer(x)\n",
    "        \n",
    "        for conv_layer in self.conv_block_2:\n",
    "            x = conv_layer(x)\n",
    "        \n",
    "        x = self.flatten(x)\n",
    "        \n",
    "        for dense_layer in self.dense_block:\n",
    "            x = dense_layer(x)\n",
    "            \n",
    "        x = self.output_layer(x)\n",
    "            \n",
    "        return x"
   ]
  },
  {
   "cell_type": "code",
   "execution_count": null,
   "id": "e70d9e4c-0f50-48c2-ad96-44549fd1ad4f",
   "metadata": {},
   "outputs": [],
   "source": [
    "bayesian_cnn_layer = BayesianCNN()\n",
    "\n",
    "# Test.\n",
    "bayesian_cnn_layer(x_train[:15]).shape"
   ]
  },
  {
   "cell_type": "code",
   "execution_count": null,
   "id": "d0374dbd-9ef2-4ee5-b182-96b026632ad6",
   "metadata": {},
   "outputs": [],
   "source": [
    "# Test.\n",
    "tf.reduce_sum(bayesian_cnn_layer(x_train[:15]), axis=-1)"
   ]
  },
  {
   "cell_type": "markdown",
   "id": "dfd3a8fa-6080-49b4-8c97-b8ca17bb0afc",
   "metadata": {},
   "source": [
    "Build a Keras `Model` object."
   ]
  },
  {
   "cell_type": "code",
   "execution_count": null,
   "id": "b6d53592-e8cc-4ea8-ac00-16cf803c5a38",
   "metadata": {},
   "outputs": [],
   "source": [
    "inputs = tf.keras.Input(shape=(32, 32, 3,))\n",
    "\n",
    "outputs = bayesian_cnn_layer(inputs)\n",
    "\n",
    "bayesian_cnn_model = tf.keras.Model(\n",
    "    inputs=inputs,\n",
    "    outputs=outputs\n",
    ")\n",
    "\n",
    "bayesian_cnn_model.summary()"
   ]
  },
  {
   "cell_type": "markdown",
   "id": "9fc7c8dd-5102-49e9-ac23-56b8663b279e",
   "metadata": {},
   "source": [
    "Multiple predictions return different outputs."
   ]
  },
  {
   "cell_type": "code",
   "execution_count": null,
   "id": "77906af1-3878-4085-9c7c-c4696ba28148",
   "metadata": {},
   "outputs": [],
   "source": [
    "for _ in range(5):\n",
    "    print(bayesian_cnn_model(x_test[:1, ...]))"
   ]
  },
  {
   "cell_type": "markdown",
   "id": "9ec00a6c-a2e9-415c-9059-bb6045bac3eb",
   "metadata": {},
   "source": [
    "## Model training"
   ]
  },
  {
   "cell_type": "code",
   "execution_count": null,
   "id": "22dc6d13-2e1a-4afc-97da-37a3d5ccb370",
   "metadata": {},
   "outputs": [],
   "source": [
    "learning_rate = 1e-3\n",
    "\n",
    "optimizer = tf.keras.optimizers.SGD(learning_rate=learning_rate)\n",
    "\n",
    "bayesian_cnn_model.compile(\n",
    "    loss='categorical_crossentropy',\n",
    "    optimizer=optimizer,\n",
    "    metrics=['accuracy']\n",
    ")"
   ]
  },
  {
   "cell_type": "code",
   "execution_count": null,
   "id": "51538da5-79f2-46c6-9b5a-4b1693044797",
   "metadata": {},
   "outputs": [],
   "source": [
    "epochs = 1\n",
    "\n",
    "history = bayesian_cnn_model.fit(\n",
    "    x_train_missing_class,\n",
    "    y_train_missing_class_one_hot,\n",
    "    batch_size=128,\n",
    "    epochs=epochs\n",
    ")"
   ]
  }
 ],
 "metadata": {
  "kernelspec": {
   "display_name": "Python 3 (ipykernel)",
   "language": "python",
   "name": "python3"
  },
  "language_info": {
   "codemirror_mode": {
    "name": "ipython",
    "version": 3
   },
   "file_extension": ".py",
   "mimetype": "text/x-python",
   "name": "python",
   "nbconvert_exporter": "python",
   "pygments_lexer": "ipython3",
   "version": "3.9.7"
  }
 },
 "nbformat": 4,
 "nbformat_minor": 5
}
