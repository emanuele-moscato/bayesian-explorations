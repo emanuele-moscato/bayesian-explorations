{
 "cells": [
  {
   "cell_type": "markdown",
   "id": "40fe0802-9ef0-4539-9ad2-222c3d853bc1",
   "metadata": {},
   "source": [
    "# RealNVP flows from scratch"
   ]
  },
  {
   "cell_type": "markdown",
   "id": "9ecfe3ef-2d07-4dc3-9a0a-8e930b8894d5",
   "metadata": {},
   "source": [
    "__Objective:__ build and train a simple RealNVP flow model from scratch.\n",
    "\n",
    "__Source:__ D. Foster, [_Generative deep learning_](https://www.oreilly.com/library/view/generative-deep-learning/9781492041931/) (2nd ed.) (with notebooks [here](https://github.com/davidADSP/Generative_Deep_Learning_2nd_Edition))."
   ]
  },
  {
   "cell_type": "markdown",
   "id": "5f4a88be-40d3-47bd-a7c7-ab3c43b27e9e",
   "metadata": {},
   "source": [
    "**Setup:**\n",
    "- We start from a vetor $z \\in \\mathbb{R}^D$ in latent space, which we sample from a multivariate standard normal distribution, so $p_Z \\sim \\mathcal{N}(0, I)$.\n",
    "- We transform $z$ to the \"real\" data space $x \\in \\mathbb{R}^D$ via the RealNVP transformation so that $z \\to x = x(z)$ is the **forward** transformation (this is opposite to what's done in the source, in which this is taken to be the inverse transformation, but for RealNVP's it doesn't really matter the forward and the inverse transformation are computationally equivalent).\n",
    "- The RealNVP transformation is implemented by a stack of **coupling layers** with feature permutation operations (bijectors) in between.\n",
    "- Following the RealNVP recipe, in each coupling layer the first $d$ dimensions (features) of $x$ are singled out and used to generate the corresponding dimensions of $z$ (an identity transformation) and to parametrize (via a neural network) an affine transformation for the last $(D - d)$ dimensions of $z$.\n",
    "- Full transformation for a single coupling layer:\n",
    "$$\n",
    "\\begin{array}{lll}\n",
    "z_i &=& x_i\\quad \\forall x=i, \\ldots, d\\\\\n",
    "z_j &=& x_j\\,\\exp\\left( s_j(x_1, \\ldots, x_d) \\right) + t_j(x_1, \\ldots, x_d)\\quad \\forall j = d+1, \\ldots, D\n",
    "\\end{array}\n",
    "$$\n",
    "where the vectors $s, t \\in \\mathbb{R}^{D-d}$ are the tensors outputted by the coupling layer and are functions of $x_1, \\ldots, x_d$ given by a neural network."
   ]
  },
  {
   "cell_type": "code",
   "execution_count": null,
   "id": "107d342c-ee10-4560-bd61-6679531ebd05",
   "metadata": {},
   "outputs": [],
   "source": [
    "import sys\n",
    "import tensorflow as tf\n",
    "import tensorflow_probability as tfp\n",
    "import matplotlib.pyplot as plt\n",
    "import seaborn as sns\n",
    "\n",
    "sys.path.append('../modules/')\n",
    "\n",
    "tfd = tfp.distributions\n",
    "\n",
    "sns.set_theme()\n",
    "\n",
    "%load_ext autoreload\n",
    "%autoreload 2"
   ]
  },
  {
   "cell_type": "markdown",
   "id": "be0ba07d-6412-4bbb-ac62-3ae80465df1b",
   "metadata": {},
   "source": [
    "## Coupling layer"
   ]
  },
  {
   "cell_type": "markdown",
   "id": "1200c64c-1a73-42e3-be97-f7e2143f935a",
   "metadata": {},
   "source": [
    "The coupling layer is responsible for taking the first $d$ dimensions (features) of the input and outputting a scale and a translation tensor (so two outputs) to be used to parametrize an affine transformation for the remaining $(D - d)$ dimensions of the input."
   ]
  },
  {
   "cell_type": "code",
   "execution_count": null,
   "id": "9b59e72e-d459-4bcf-971a-108b3b63a691",
   "metadata": {},
   "outputs": [],
   "source": [
    "from real_nvp import CouplingLayer"
   ]
  },
  {
   "cell_type": "code",
   "execution_count": null,
   "id": "dd702ed2-326a-4c3c-a9de-0dc9e6c16649",
   "metadata": {},
   "outputs": [],
   "source": [
    "test_cl = CouplingLayer(\n",
    "    n_masked_dims=2,\n",
    "    n_affine_dims=3,\n",
    "    hidden_layers_dims=[32, 32]\n",
    ")\n",
    "\n",
    "s, t = test_cl(tf.random.normal(shape=(14, 5)))"
   ]
  },
  {
   "cell_type": "markdown",
   "id": "83739fea-b1aa-477f-8100-67b9eac47121",
   "metadata": {},
   "source": [
    "## RealNVP bijector [WIP]"
   ]
  },
  {
   "cell_type": "markdown",
   "id": "0e43425c-b818-4844-82e9-9df78a5b2b15",
   "metadata": {},
   "source": [
    "Parametrize an affine (scale and then shift) tranformation with the output from the `CouplingLayer`."
   ]
  },
  {
   "cell_type": "code",
   "execution_count": null,
   "id": "93ca7bd2-2cbe-4c66-b012-34af3d9ab201",
   "metadata": {},
   "outputs": [],
   "source": [
    "from real_nvp import RealNVPBijector"
   ]
  },
  {
   "cell_type": "code",
   "execution_count": null,
   "id": "d8174f55-b6bf-48ea-847e-201388fb09b8",
   "metadata": {},
   "outputs": [],
   "source": [
    "test_data = tf.ones(shape=(4, 5)) * 2.4"
   ]
  },
  {
   "cell_type": "code",
   "execution_count": null,
   "id": "1ac33d29-54cc-4250-9446-a38e19f8c5c7",
   "metadata": {},
   "outputs": [],
   "source": [
    "test_real_nvp_bij = RealNVPBijector(test_cl)"
   ]
  },
  {
   "cell_type": "code",
   "execution_count": null,
   "id": "9bbcdc92-3c9b-4341-bea0-75da142ab941",
   "metadata": {},
   "outputs": [],
   "source": [
    "test_real_nvp_bij.forward(test_data), test_real_nvp_bij.inverse(test_data)"
   ]
  },
  {
   "cell_type": "markdown",
   "id": "79fd284e-775c-42e0-aa38-796be8c4160c",
   "metadata": {},
   "source": [
    "Check a \"cycle condition\": applying the forward and then the inverse transformation on some data (and vice versa) we should reobtain the starting tensors."
   ]
  },
  {
   "cell_type": "code",
   "execution_count": null,
   "id": "d52f3726-9f9b-4eac-8c03-0f886320e565",
   "metadata": {},
   "outputs": [],
   "source": [
    "test_affine_bij.inverse(test_real_nvp_bij.forward(test_data))"
   ]
  },
  {
   "cell_type": "code",
   "execution_count": null,
   "id": "f9e135fa-3fb5-4f50-bfcc-ca4e27b108d8",
   "metadata": {},
   "outputs": [],
   "source": [
    "test_affine_bij.forward(test_real_nvp_bij.inverse(test_data))"
   ]
  },
  {
   "cell_type": "markdown",
   "id": "69c11627-be34-4397-b83b-b6638d5ead40",
   "metadata": {},
   "source": [
    "## RealNVP model [WIP]"
   ]
  },
  {
   "cell_type": "markdown",
   "id": "1c6c471f-3972-4a54-92d1-3dafa5de85a6",
   "metadata": {},
   "source": [
    "Implement the RealNVP flow model as a Keras `Model` object."
   ]
  }
 ],
 "metadata": {
  "kernelspec": {
   "display_name": "Python 3 (ipykernel)",
   "language": "python",
   "name": "python3"
  },
  "language_info": {
   "codemirror_mode": {
    "name": "ipython",
    "version": 3
   },
   "file_extension": ".py",
   "mimetype": "text/x-python",
   "name": "python",
   "nbconvert_exporter": "python",
   "pygments_lexer": "ipython3",
   "version": "3.10.13"
  }
 },
 "nbformat": 4,
 "nbformat_minor": 5
}
