{
 "cells": [
  {
   "cell_type": "markdown",
   "id": "4a8b751f-c6cd-42f4-8117-c1ef70f2b7c9",
   "metadata": {},
   "source": [
    "# Bootstrapping"
   ]
  },
  {
   "cell_type": "markdown",
   "id": "3d2216d2-da4d-4daa-a7ed-0dad126a8585",
   "metadata": {},
   "source": [
    "Boostrapping is a simple approach to evaluate the uncertainty on the estimates of parameters, given a population (dataset) with points $\\mathcal{D} = \\lbrace x_i \\rbrace_{i=1, \\ldots, N}$.\n",
    "\n",
    "Algorithm:\n",
    "1. Choose two integers, $M < N$ and $L > 1$.\n",
    "2. Draw $M$ samples with replacement from the original dataset $\\mathcal{D}$ to create a smaller dataset $\\mathcal{D}_M$.\n",
    "3. Estimate the chosen parameter over the $\\mathcal{D}_M$.\n",
    "4. Repeat points (2) and (3) $L$ times in order to get $L$ values for the estimate, then look at their distribution.\n",
    "\n",
    "Let's see this in practice: we'll sample $N=1000$ values from a Gaussian distribution of chosen mean and variance (which we'll then forget) and then estimate the mean value and the uncertainty over its estimate."
   ]
  },
  {
   "cell_type": "code",
   "execution_count": null,
   "id": "5396ee66-8037-4d23-8390-1261f4f4d9ce",
   "metadata": {},
   "outputs": [],
   "source": [
    "import numpy as np\n",
    "import tensorflow as tf\n",
    "import tensorflow_probability as tfp\n",
    "import matplotlib.pyplot as plt\n",
    "import seaborn as sns\n",
    "\n",
    "tfd = tfp.distributions\n",
    "\n",
    "sns.set_theme()"
   ]
  },
  {
   "cell_type": "markdown",
   "id": "ee0ac753-7e12-46a5-a220-1fd4e0a6c15f",
   "metadata": {},
   "source": [
    "## Generate data"
   ]
  },
  {
   "cell_type": "code",
   "execution_count": null,
   "id": "b78824c7-915f-4679-9ca2-88b13afc0819",
   "metadata": {},
   "outputs": [],
   "source": [
    "N = 10000\n",
    "\n",
    "# Choose parameters for the distribution.\n",
    "μ = 5.4\n",
    "σ = 1.2\n",
    "\n",
    "# Instantiate the probability distribution object.\n",
    "gaussian = tfd.Normal(loc=μ, scale=σ)\n",
    "\n",
    "# Generate samples.\n",
    "samples = gaussian.sample(sample_shape=N)"
   ]
  },
  {
   "cell_type": "markdown",
   "id": "c0361184-b104-481c-b047-a77e5252b662",
   "metadata": {},
   "source": [
    "Plot the data."
   ]
  },
  {
   "cell_type": "code",
   "execution_count": null,
   "id": "c6622299-db49-46c5-a9d6-84020cd49a95",
   "metadata": {},
   "outputs": [],
   "source": [
    "fig = plt.figure(figsize=(14, 6))\n",
    "\n",
    "sns.histplot(\n",
    "    x=samples,\n",
    "    kde=True,\n",
    "    stat='density',\n",
    "    color=sns.color_palette()[0]\n",
    ")\n",
    "\n",
    "plt.axvline(\n",
    "    x=μ,\n",
    "    color=sns.color_palette()[1],\n",
    "    label='True mean',\n",
    "    alpha=1.\n",
    ")\n",
    "\n",
    "plt.axvline(\n",
    "    x=samples.numpy().mean(),\n",
    "    color=sns.color_palette()[2],\n",
    "    label='Estimated mean (whole dataset)',\n",
    "    alpha=1.\n",
    ")\n",
    "\n",
    "plt.xlabel('Value', fontsize=15)\n",
    "plt.xticks(fontsize=12)\n",
    "plt.ylabel('Density', fontsize=15)\n",
    "plt.yticks(fontsize=12)\n",
    "\n",
    "plt.legend(loc='upper right', fontsize=15)\n",
    "\n",
    "plt.title('Sampled values', fontsize=18)"
   ]
  },
  {
   "cell_type": "markdown",
   "id": "841fa673-9ce4-43e7-8cab-c28521ee101c",
   "metadata": {},
   "source": [
    "## Bootstrap estimation"
   ]
  },
  {
   "cell_type": "code",
   "execution_count": null,
   "id": "a6bd026a-434e-49c1-989a-f76ea2eae574",
   "metadata": {},
   "outputs": [],
   "source": [
    "M = 7000\n",
    "L = 1000\n",
    "\n",
    "subdatasets = tf.stack([\n",
    "    tf.gather(\n",
    "        samples,\n",
    "        tf.random.uniform(shape=[M], minval=0, maxval=samples.shape[0], dtype=tf.dtypes.int32)\n",
    "    )\n",
    "    for _ in range(L)\n",
    "])"
   ]
  },
  {
   "cell_type": "markdown",
   "id": "d3ea7442-5b13-443b-ae9c-3d2684f7137d",
   "metadata": {},
   "source": [
    "Plot some sub-datasets and their respective estimated mean."
   ]
  },
  {
   "cell_type": "code",
   "execution_count": null,
   "id": "dadb421f-8f93-4892-ade6-344ccccbf883",
   "metadata": {},
   "outputs": [],
   "source": [
    "n_plots = 3\n",
    "\n",
    "indices = np.random.choice(range(subdatasets.shape[0]), size=n_plots, replace=False)\n",
    "\n",
    "fig = plt.figure(figsize=(14, 6))\n",
    "\n",
    "for i in range(n_plots):\n",
    "    sns.histplot(\n",
    "        x=subdatasets[indices[i], :],\n",
    "        kde=True,\n",
    "        stat='density',\n",
    "        color=sns.color_palette()[i],\n",
    "        alpha=0.3\n",
    "    )\n",
    "    \n",
    "    plt.axvline(\n",
    "        x=subdatasets[indices[i], :].numpy().mean(),\n",
    "        color=sns.color_palette()[i],\n",
    "        alpha=1.,\n",
    "        label=f'Estimated mean for dataset {indices[i]}'\n",
    "    )\n",
    "    \n",
    "plt.xlabel('Value', fontsize=15)\n",
    "plt.xticks(fontsize=12)\n",
    "plt.ylabel('Density', fontsize=15)\n",
    "plt.yticks(fontsize=12)\n",
    "\n",
    "plt.legend(loc='upper right', fontsize=14)"
   ]
  },
  {
   "cell_type": "markdown",
   "id": "986fe97e-ce56-4df3-9a95-cd8a02b16524",
   "metadata": {},
   "source": [
    "Compute the estimated mean for each sub-dataset and plot the distribution of the estimates."
   ]
  },
  {
   "cell_type": "code",
   "execution_count": null,
   "id": "7842fd38-aa02-44bc-9138-8b5ad13d8339",
   "metadata": {},
   "outputs": [],
   "source": [
    "mean_estimates = tf.reduce_mean(subdatasets, axis=1)\n",
    "\n",
    "fig = plt.figure(figsize=(14, 6))\n",
    "\n",
    "sns.histplot(\n",
    "    x=mean_estimates,\n",
    "    kde=True,\n",
    "    stat='density'\n",
    ")\n",
    "\n",
    "plt.xlabel('Value', fontsize=15)\n",
    "plt.xticks(fontsize=12)\n",
    "plt.ylabel('Density', fontsize=15)\n",
    "plt.yticks(fontsize=12)\n",
    "\n",
    "plt.title('Mean estimates over the sub-datasets', fontsize=18)"
   ]
  },
  {
   "cell_type": "markdown",
   "id": "b88aab1b-ac0d-407b-b411-56e5737985ae",
   "metadata": {},
   "source": [
    "The point value of the estimate can be computed over the whole dataset while quantiles of the distribution of the estimates over the sub-datasets can be used to gauge the uncertainty over the point estimate."
   ]
  },
  {
   "cell_type": "code",
   "execution_count": null,
   "id": "89eeec4d-4d3f-4baa-b735-9da3ac7dd476",
   "metadata": {},
   "outputs": [],
   "source": [
    "# Compute the 5th and 95th quantile.\n",
    "quantile_05, quantile_95 = np.quantile(mean_estimates.numpy(), 0.05), np.quantile(mean_estimates.numpy(), 0.95)\n",
    "\n",
    "# Compute the standard deviation of the estimated means.\n",
    "σ_μ_bootstrap = mean_estimates.numpy().std()\n",
    "\n",
    "point_estimate = samples.numpy().mean()\n",
    "\n",
    "print(\n",
    "    f'Estimated μ: {point_estimate} (true: {μ})\\n'\n",
    "    f'Estimated σ_μ: {σ_μ_bootstrap} (true: {σ / np.sqrt(N)})'\n",
    ")"
   ]
  },
  {
   "cell_type": "markdown",
   "id": "66669a76-452b-4cc5-9868-9ba44fc4979c",
   "metadata": {},
   "source": [
    "## Sanity check"
   ]
  },
  {
   "cell_type": "markdown",
   "id": "2a295614-46da-4260-afef-23a47b34d46c",
   "metadata": {},
   "source": [
    "Since we have a distribution from which we can generate multiple datasest, let's estimate numerically the value of $\\sigma_\\mu$ (which coincides with the classic value $\\sigma /\\sqrt{N}$)."
   ]
  },
  {
   "cell_type": "code",
   "execution_count": null,
   "id": "569d3b5b-0d21-4b42-9076-f259cbd6dd60",
   "metadata": {},
   "outputs": [],
   "source": [
    "generated_means = tf.reduce_mean(gaussian.sample(sample_shape=[L, N]), axis=1)\n",
    "\n",
    "σ_μ_numerical = generated_means.numpy().std()\n",
    "\n",
    "print(\n",
    "    f'Bootstrap-estimated σ_μ: {σ_μ_bootstrap}\\n',\n",
    "    f'Numerically estimated σ_μ: {σ_μ_numerical}'\n",
    ")"
   ]
  }
 ],
 "metadata": {
  "kernelspec": {
   "display_name": "Python 3 (ipykernel)",
   "language": "python",
   "name": "python3"
  },
  "language_info": {
   "codemirror_mode": {
    "name": "ipython",
    "version": 3
   },
   "file_extension": ".py",
   "mimetype": "text/x-python",
   "name": "python",
   "nbconvert_exporter": "python",
   "pygments_lexer": "ipython3",
   "version": "3.9.7"
  }
 },
 "nbformat": 4,
 "nbformat_minor": 5
}
